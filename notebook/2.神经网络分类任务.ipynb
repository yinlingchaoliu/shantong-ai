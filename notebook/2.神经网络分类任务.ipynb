{
 "cells": [
  {
   "cell_type": "markdown",
   "id": "2dc26b70-d40d-447f-bc7e-cef86bfc557a",
   "metadata": {},
   "source": [
    "# Mnist分类任务\n",
    "* 网络基本构建与训练方法, 常用函数解析\n",
    "* torch.nn.function模块\n",
    "* nn.Module模块"
   ]
  },
  {
   "cell_type": "markdown",
   "id": "d830bcea-ac6c-47d5-9609-1b4dcb5c4e89",
   "metadata": {},
   "source": [
    "# 读取Mnist数据集\n",
    "* 会自动下载"
   ]
  },
  {
   "cell_type": "code",
   "execution_count": 73,
   "id": "acd44d9f-4e0b-4a05-b51e-08a40ae83626",
   "metadata": {},
   "outputs": [],
   "source": [
    "%matplotlib inline"
   ]
  },
  {
   "cell_type": "code",
   "execution_count": 75,
   "id": "e4506d8c-9cbd-4c3f-853c-96e25e011833",
   "metadata": {},
   "outputs": [],
   "source": [
    "from pathlib import Path\n",
    "import requests\n",
    "\n",
    "DATA_PATH = Path(\"data\")\n",
    "PATH = DATA_PATH / \"mnist\"\n",
    "\n",
    "PATH.mkdir(parents=True,exist_ok=True)\n",
    "\n",
    "#python + 翻墙\n",
    "URL=\"http://deeplearning.net/data/mnist/\"\n",
    "FILENAME=\"mnist.pkl.gz\"\n",
    "\n",
    "if not (PATH / FILENAME).exists():\n",
    "    content = requests.get(URL+FILENAME).content\n",
    "    (PATH/FILENAME).open(\"wb\").write(content)"
   ]
  },
  {
   "cell_type": "code",
   "execution_count": 84,
   "id": "1fb96a61-977e-4501-b987-a6a87da057ea",
   "metadata": {},
   "outputs": [
    {
     "name": "stdout",
     "output_type": "stream",
     "text": [
      "训练集大小: (54000, 28, 28)\n",
      "验证集大小: (6000, 28, 28)\n",
      "测试集大小: (10000, 28, 28)\n"
     ]
    }
   ],
   "source": [
    "# 读取文件 将路径转换为POSIX格式，确保跨平台兼容性。\n",
    "with gzip.open((PATH / FILENAME).as_posix(),\"rb\") as f:\n",
    "    data = pickle.load(f,encoding=\"latin-l\")\n",
    "    #将数据拆解 成 训练集 、验证集 、测试集\n",
    "    (x_train, y_train),(x_valid, y_valid), (x_test, y_test) = data\n",
    "# 查看数据集的形状\n",
    "print(\"训练集大小:\", x_train.shape)\n",
    "print(\"验证集大小:\", x_valid.shape)\n",
    "print(\"测试集大小:\", x_test.shape)"
   ]
  },
  {
   "cell_type": "markdown",
   "id": "2ea9eb48-4fb2-4b51-a9fb-850601fc74cc",
   "metadata": {},
   "source": [
    "784是每个样本像素点的个数"
   ]
  },
  {
   "cell_type": "code",
   "execution_count": 86,
   "id": "2707fd0f-e3c7-4f7d-8fb5-9a235f36ac5b",
   "metadata": {},
   "outputs": [
    {
     "data": {
      "image/png": "[encoded data removed]",
      "text/plain": [
       "<Figure size 640x480 with 1 Axes>"
      ]
     },
     "metadata": {},
     "output_type": "display_data"
    },
    {
     "name": "stdout",
     "output_type": "stream",
     "text": [
      "(54000, 28, 28)\n"
     ]
    }
   ],
   "source": [
    "from matplotlib import pyplot as plt \n",
    "import numpy as np\n",
    "\n",
    "plt.imshow(x_train[0].reshape((28,28)),cmap='gray')\n",
    "plt.show()\n",
    "print(x_train.shape)"
   ]
  },
  {
   "cell_type": "markdown",
   "id": "f5f2bb1e-7506-4ab4-b1a5-688a7515a848",
   "metadata": {},
   "source": [
    "* tips: 网络分类任务 得到不是一个结果，而是一个概率值\n",
    "* Image ->Neural Network -> [0,0.12,0,0.01,0,0,0,0,0.87]\n",
    "* 分类任务是概率值"
   ]
  },
  {
   "cell_type": "code",
   "execution_count": 111,
   "id": "a7c53d9f-a96b-423f-85c6-5bc91a7281e7",
   "metadata": {},
   "outputs": [
    {
     "name": "stdout",
     "output_type": "stream",
     "text": [
      "torch.Size([54000, 28, 28])\n",
      "tensor([5, 0, 4,  ..., 8, 9, 8], dtype=torch.uint8)\n",
      "tensor(0, dtype=torch.uint8) tensor(9, dtype=torch.uint8)\n"
     ]
    },
    {
     "name": "stderr",
     "output_type": "stream",
     "text": [
      "/var/folders/8_/94drxc091ks00vspl9q0jyhc0000gn/T/ipykernel_65126/385875349.py:3: UserWarning: To copy construct from a tensor, it is recommended to use sourceTensor.clone().detach() or sourceTensor.clone().detach().requires_grad_(True), rather than torch.tensor(sourceTensor).\n",
      "  x_train,y_train, x_valid, y_valid = map(\n"
     ]
    }
   ],
   "source": [
    "import torch\n",
    "# 数据转换成tensor\n",
    "x_train,y_train, x_valid, y_valid = map(\n",
    "    torch.tensor, (x_train,y_train, x_valid, y_valid )\n",
    ")\n",
    "# n,c = x_train.shape\n",
    "# x_train, x_train.shape, y_train.min(), y_train.max()\n",
    "print(x_train.shape)\n",
    "print(y_train)\n",
    "print(y_train.min(), y_train.max())"
   ]
  },
  {
   "cell_type": "markdown",
   "id": "73115ca8-6cd8-4692-ad88-fa563bffdd5f",
   "metadata": {},
   "source": [
    "# torch.nn.functional 和 torch.nn.Module\n"
   ]
  },
  {
   "cell_type": "code",
   "execution_count": 128,
   "id": "4a0a2667-1d77-4603-94a3-b4c20ea14440",
   "metadata": {},
   "outputs": [],
   "source": [
    "import torch.nn.functional as F\n",
    "\n",
    "loss_func = F.cross_entropy\n",
    "\n",
    "def model(xb,weights,bias):\n",
    "    return xb.mm(weights) + bias"
   ]
  },
  {
   "cell_type": "code",
   "execution_count": 136,
   "id": "85c870b6-a3f6-4438-af61-75d848eeb698",
   "metadata": {},
   "outputs": [],
   "source": [
    "bs = 64 \n",
    "xb = x_train[0:bs] # mini-batch from x\n",
    "yb = y_train[0:bs]\n",
    "weights = torch.randn([784,10],dtype=torch.float, requires_grad = True)\n",
    "bs = 64\n",
    "bias = torch.zeros(10,requires_grad = True)\n",
    "\n",
    "#loss_func(model(xb,weights,bias),yb)"
   ]
  },
  {
   "cell_type": "code",
   "execution_count": null,
   "id": "f3f84f34-95f5-4b48-9dec-c8e6456732c2",
   "metadata": {},
   "outputs": [],
   "source": [
    "\n",
    "from torch import nn\n",
    "\n",
    "class Mnist_NN(nn.Module):\n",
    "    def __init__(self):\n",
    "        super().__init__()\n",
    "        #28*28 全链接层\n",
    "        self.hidden1 = nn.Linear(784,128)\n",
    "        self.hidden2 = nn.Linear(128,256)\n",
    "        self.out = nn.Linear(256,10)\n",
    "\n",
    "    #前向传播 (反向传播 torch框架自动处理)\n",
    "    def forward(self,x):\n",
    "        #激活函数\n",
    "        x=F.relu(self.hidden1(x))\n",
    "        x=F.relu(self.hidden2(x))\n",
    "        x=self.out(x)\n",
    "        return x\n",
    "\n",
    "net = Mnist_NN()\n",
    "print(net)\n",
    "\n",
    "#打印网络参数\n",
    "for name, param in net.named_parameters():\n",
    "    print(name,param,param.size())\n"
   ]
  },
  {
   "cell_type": "markdown",
   "id": "290dd61b-a763-44f4-9d76-d20a05a904e4",
   "metadata": {},
   "source": [
    "# nn.Module"
   ]
  },
  {
   "cell_type": "code",
   "execution_count": 138,
   "id": "f91781d0-91a0-4a6f-9c6e-32c6ed205ffd",
   "metadata": {},
   "outputs": [
    {
     "name": "stdout",
     "output_type": "stream",
     "text": [
      "Mnist_NN(\n",
      "  (hidden1): Linear(in_features=784, out_features=128, bias=True)\n",
      "  (hidden2): Linear(in_features=128, out_features=256, bias=True)\n",
      "  (out): Linear(in_features=256, out_features=10, bias=True)\n",
      ")\n",
      "hidden1.weight Parameter containing:\n",
      "tensor([[ 0.0123,  0.0323, -0.0054,  ...,  0.0046,  0.0335,  0.0040],\n",
      "        [ 0.0193, -0.0354, -0.0075,  ..., -0.0175,  0.0052,  0.0291],\n",
      "        [-0.0229,  0.0258, -0.0002,  ..., -0.0095,  0.0246,  0.0169],\n",
      "        ...,\n",
      "        [-0.0056,  0.0179, -0.0227,  ..., -0.0302,  0.0207,  0.0195],\n",
      "        [ 0.0184,  0.0156, -0.0062,  ...,  0.0197, -0.0007, -0.0277],\n",
      "        [-0.0072, -0.0191,  0.0143,  ...,  0.0125, -0.0051,  0.0303]],\n",
      "       requires_grad=True) torch.Size([128, 784])\n",
      "hidden1.bias Parameter containing:\n",
      "tensor([ 0.0116,  0.0222,  0.0303,  0.0018,  0.0028,  0.0271, -0.0162,  0.0256,\n",
      "         0.0082, -0.0129, -0.0255, -0.0251,  0.0011, -0.0135, -0.0074, -0.0231,\n",
      "        -0.0105,  0.0258, -0.0235,  0.0242, -0.0221, -0.0004,  0.0188, -0.0141,\n",
      "         0.0241,  0.0100,  0.0132, -0.0020, -0.0097,  0.0025,  0.0030, -0.0061,\n",
      "        -0.0308,  0.0119,  0.0209, -0.0133, -0.0148, -0.0129,  0.0084,  0.0078,\n",
      "        -0.0276,  0.0304,  0.0091, -0.0267,  0.0112, -0.0234,  0.0114,  0.0309,\n",
      "         0.0099,  0.0321, -0.0145, -0.0117, -0.0151, -0.0069,  0.0241,  0.0149,\n",
      "        -0.0337,  0.0229,  0.0127, -0.0029,  0.0102, -0.0178, -0.0090, -0.0225,\n",
      "         0.0230, -0.0271, -0.0222,  0.0334, -0.0308,  0.0293,  0.0330,  0.0111,\n",
      "         0.0342, -0.0209,  0.0265,  0.0288, -0.0187, -0.0110,  0.0163,  0.0193,\n",
      "         0.0314, -0.0150, -0.0117, -0.0055, -0.0012, -0.0264,  0.0131, -0.0211,\n",
      "         0.0263, -0.0286, -0.0040, -0.0022, -0.0131, -0.0148,  0.0102, -0.0343,\n",
      "        -0.0182, -0.0318, -0.0234, -0.0045,  0.0076,  0.0126, -0.0036,  0.0288,\n",
      "        -0.0213,  0.0301,  0.0206,  0.0066,  0.0089, -0.0305,  0.0065, -0.0256,\n",
      "        -0.0119,  0.0007,  0.0267, -0.0073,  0.0355,  0.0059, -0.0325, -0.0184,\n",
      "        -0.0156, -0.0242, -0.0311,  0.0275, -0.0256,  0.0082, -0.0172,  0.0177],\n",
      "       requires_grad=True) torch.Size([128])\n",
      "hidden2.weight Parameter containing:\n",
      "tensor([[ 0.0727, -0.0720, -0.0253,  ..., -0.0220, -0.0147,  0.0161],\n",
      "        [ 0.0847, -0.0868,  0.0839,  ...,  0.0209,  0.0544,  0.0256],\n",
      "        [ 0.0400, -0.0852, -0.0178,  ...,  0.0114, -0.0210,  0.0282],\n",
      "        ...,\n",
      "        [ 0.0173,  0.0219,  0.0628,  ...,  0.0047, -0.0601, -0.0809],\n",
      "        [ 0.0397, -0.0834, -0.0804,  ..., -0.0874,  0.0269,  0.0706],\n",
      "        [-0.0199,  0.0463, -0.0541,  ...,  0.0157, -0.0510,  0.0045]],\n",
      "       requires_grad=True) torch.Size([256, 128])\n",
      "hidden2.bias Parameter containing:\n",
      "tensor([-0.0793,  0.0726,  0.0732,  0.0566,  0.0280,  0.0453, -0.0325,  0.0677,\n",
      "         0.0640, -0.0641,  0.0498, -0.0384,  0.0224,  0.0099,  0.0778,  0.0603,\n",
      "        -0.0219,  0.0219, -0.0418, -0.0316,  0.0443,  0.0033, -0.0646, -0.0492,\n",
      "        -0.0678,  0.0470, -0.0365, -0.0003,  0.0511,  0.0608,  0.0272,  0.0742,\n",
      "        -0.0599, -0.0184, -0.0290,  0.0150, -0.0172,  0.0644, -0.0761, -0.0871,\n",
      "        -0.0358, -0.0754,  0.0788,  0.0795,  0.0253,  0.0833, -0.0569,  0.0343,\n",
      "         0.0014,  0.0212,  0.0481,  0.0544,  0.0796, -0.0521, -0.0679, -0.0547,\n",
      "        -0.0152, -0.0261, -0.0142, -0.0553, -0.0649,  0.0156,  0.0333, -0.0480,\n",
      "        -0.0401, -0.0131, -0.0708, -0.0555,  0.0344, -0.0736,  0.0511, -0.0579,\n",
      "         0.0552, -0.0336,  0.0791,  0.0210,  0.0194, -0.0811,  0.0841,  0.0698,\n",
      "        -0.0222,  0.0086, -0.0514,  0.0118, -0.0427, -0.0127,  0.0843, -0.0771,\n",
      "        -0.0719, -0.0329,  0.0263, -0.0397, -0.0638,  0.0479, -0.0448,  0.0331,\n",
      "        -0.0882,  0.0864,  0.0588,  0.0542,  0.0009, -0.0758, -0.0743,  0.0392,\n",
      "        -0.0393, -0.0025,  0.0853,  0.0242, -0.0398, -0.0059, -0.0817, -0.0103,\n",
      "        -0.0300, -0.0065, -0.0051,  0.0858,  0.0182,  0.0409,  0.0521, -0.0593,\n",
      "         0.0250,  0.0288,  0.0293, -0.0063, -0.0475,  0.0532, -0.0474, -0.0512,\n",
      "        -0.0215,  0.0642,  0.0832, -0.0204, -0.0392, -0.0746, -0.0862, -0.0366,\n",
      "        -0.0153, -0.0602, -0.0030,  0.0592,  0.0186,  0.0746,  0.0092, -0.0072,\n",
      "         0.0315, -0.0143, -0.0853, -0.0592,  0.0079, -0.0730,  0.0293, -0.0174,\n",
      "         0.0372, -0.0654, -0.0171, -0.0572, -0.0783,  0.0830,  0.0175,  0.0240,\n",
      "        -0.0422, -0.0509, -0.0082,  0.0224,  0.0602,  0.0566, -0.0275,  0.0795,\n",
      "         0.0104,  0.0346, -0.0197,  0.0725, -0.0721, -0.0769, -0.0872, -0.0644,\n",
      "        -0.0419, -0.0850, -0.0506, -0.0270, -0.0266,  0.0525,  0.0353,  0.0115,\n",
      "         0.0320, -0.0650, -0.0591, -0.0705,  0.0050, -0.0359,  0.0373, -0.0531,\n",
      "        -0.0687,  0.0105, -0.0833, -0.0862, -0.0285, -0.0435, -0.0748,  0.0332,\n",
      "        -0.0670, -0.0439,  0.0870,  0.0005,  0.0746, -0.0523, -0.0142,  0.0148,\n",
      "        -0.0688, -0.0839,  0.0871,  0.0322, -0.0871, -0.0458, -0.0071, -0.0272,\n",
      "         0.0879,  0.0328,  0.0211, -0.0202, -0.0880, -0.0643, -0.0675, -0.0144,\n",
      "         0.0457, -0.0089,  0.0189,  0.0434, -0.0405,  0.0763, -0.0314,  0.0823,\n",
      "        -0.0429, -0.0168,  0.0037, -0.0612,  0.0528,  0.0688,  0.0799, -0.0868,\n",
      "        -0.0437, -0.0674, -0.0793,  0.0880, -0.0871, -0.0665, -0.0318,  0.0160,\n",
      "         0.0316,  0.0600,  0.0087,  0.0147, -0.0500, -0.0527,  0.0176,  0.0145],\n",
      "       requires_grad=True) torch.Size([256])\n",
      "out.weight Parameter containing:\n",
      "tensor([[ 0.0025,  0.0372,  0.0220,  ...,  0.0416, -0.0568, -0.0595],\n",
      "        [-0.0375,  0.0304, -0.0113,  ...,  0.0277,  0.0097, -0.0304],\n",
      "        [ 0.0077, -0.0390,  0.0508,  ..., -0.0423, -0.0509, -0.0458],\n",
      "        ...,\n",
      "        [-0.0118,  0.0251, -0.0157,  ...,  0.0372, -0.0243, -0.0420],\n",
      "        [-0.0060, -0.0349, -0.0404,  ..., -0.0159, -0.0272, -0.0243],\n",
      "        [-0.0399, -0.0425, -0.0463,  ..., -0.0600, -0.0603,  0.0248]],\n",
      "       requires_grad=True) torch.Size([10, 256])\n",
      "out.bias Parameter containing:\n",
      "tensor([-0.0355,  0.0233, -0.0513, -0.0010, -0.0067, -0.0389,  0.0049,  0.0374,\n",
      "         0.0591, -0.0032], requires_grad=True) torch.Size([10])\n"
     ]
    }
   ],
   "source": [
    "\n",
    "from torch import nn\n",
    "\n",
    "class Mnist_NN(nn.Module):\n",
    "    def __init__(self):\n",
    "        super().__init__()\n",
    "        #28*28 全链接层\n",
    "        self.hidden1 = nn.Linear(784,128)\n",
    "        self.hidden2 = nn.Linear(128,256)\n",
    "        self.out = nn.Linear(256,10)\n",
    "\n",
    "    #前向传播 (反向传播 torch框架自动处理)\n",
    "    def forward(self,x):\n",
    "        #激活函数\n",
    "        x=F.relu(self.hidden1(x))\n",
    "        x=F.relu(self.hidden2(x))\n",
    "        x=self.out(x)\n",
    "        return x\n",
    "\n",
    "net = Mnist_NN()\n",
    "print(net)\n",
    "\n",
    "#打印网络参数\n",
    "for name, param in net.named_parameters():\n",
    "    print(name,param,param.size())\n"
   ]
  },
  {
   "cell_type": "markdown",
   "id": "fec6e467-9052-40ea-819f-134bb6dd9574",
   "metadata": {},
   "source": [
    "# 使用TensorDataset和DataLoader来简化"
   ]
  },
  {
   "cell_type": "code",
   "execution_count": 162,
   "id": "8bc6a0ca-ffae-4591-bf5f-030065684bca",
   "metadata": {},
   "outputs": [
    {
     "ename": "RuntimeError",
     "evalue": "mat1 and mat2 must have the same dtype, but got Byte and Float",
     "output_type": "error",
     "traceback": [
      "\u001b[0;31m---------------------------------------------------------------------------\u001b[0m",
      "\u001b[0;31mRuntimeError\u001b[0m                              Traceback (most recent call last)",
      "Cell \u001b[0;32mIn[162], line 85\u001b[0m\n\u001b[1;32m     83\u001b[0m train_dl, vaild_dl \u001b[38;5;241m=\u001b[39m get_data(train_ds, vaild_ds, bs)\n\u001b[1;32m     84\u001b[0m model,opt \u001b[38;5;241m=\u001b[39m get_model()\n\u001b[0;32m---> 85\u001b[0m fit(\u001b[38;5;241m25\u001b[39m, model, loss_func, opt, train_dl, vaild_dl)\n",
      "Cell \u001b[0;32mIn[162], line 49\u001b[0m, in \u001b[0;36mfit\u001b[0;34m(steps, model, loss_func, opt, train_dl, vaild_dl)\u001b[0m\n\u001b[1;32m     46\u001b[0m model\u001b[38;5;241m.\u001b[39mtrain()  \u001b[38;5;66;03m# 训练模式\u001b[39;00m\n\u001b[1;32m     47\u001b[0m \u001b[38;5;28;01mfor\u001b[39;00m xb, yb \u001b[38;5;129;01min\u001b[39;00m train_dl:\n\u001b[1;32m     48\u001b[0m     \u001b[38;5;66;03m# loss_func(model,loss_func,xb,yb,opt)\u001b[39;00m\n\u001b[0;32m---> 49\u001b[0m     loss_batch(model, loss_func, xb, yb, opt)\n\u001b[1;32m     51\u001b[0m model\u001b[38;5;241m.\u001b[39meval()  \u001b[38;5;66;03m# 验证模式\u001b[39;00m\n\u001b[1;32m     52\u001b[0m \u001b[38;5;28;01mwith\u001b[39;00m torch\u001b[38;5;241m.\u001b[39mno_grad():\n",
      "Cell \u001b[0;32mIn[162], line 69\u001b[0m, in \u001b[0;36mloss_batch\u001b[0;34m(model, loss_func, xb, yb, opt)\u001b[0m\n\u001b[1;32m     68\u001b[0m \u001b[38;5;28;01mdef\u001b[39;00m \u001b[38;5;21mloss_batch\u001b[39m(model, loss_func, xb, yb, opt\u001b[38;5;241m=\u001b[39m\u001b[38;5;28;01mNone\u001b[39;00m):\n\u001b[0;32m---> 69\u001b[0m     loss \u001b[38;5;241m=\u001b[39m loss_func(model(xb), yb)\n\u001b[1;32m     71\u001b[0m     \u001b[38;5;28;01mif\u001b[39;00m opt \u001b[38;5;129;01mis\u001b[39;00m \u001b[38;5;129;01mnot\u001b[39;00m \u001b[38;5;28;01mNone\u001b[39;00m:\n\u001b[1;32m     72\u001b[0m         loss\u001b[38;5;241m.\u001b[39mbackward()\n",
      "File \u001b[0;32m/opt/anaconda3/lib/python3.12/site-packages/torch/nn/modules/module.py:1511\u001b[0m, in \u001b[0;36mModule._wrapped_call_impl\u001b[0;34m(self, *args, **kwargs)\u001b[0m\n\u001b[1;32m   1509\u001b[0m     \u001b[38;5;28;01mreturn\u001b[39;00m \u001b[38;5;28mself\u001b[39m\u001b[38;5;241m.\u001b[39m_compiled_call_impl(\u001b[38;5;241m*\u001b[39margs, \u001b[38;5;241m*\u001b[39m\u001b[38;5;241m*\u001b[39mkwargs)  \u001b[38;5;66;03m# type: ignore[misc]\u001b[39;00m\n\u001b[1;32m   1510\u001b[0m \u001b[38;5;28;01melse\u001b[39;00m:\n\u001b[0;32m-> 1511\u001b[0m     \u001b[38;5;28;01mreturn\u001b[39;00m \u001b[38;5;28mself\u001b[39m\u001b[38;5;241m.\u001b[39m_call_impl(\u001b[38;5;241m*\u001b[39margs, \u001b[38;5;241m*\u001b[39m\u001b[38;5;241m*\u001b[39mkwargs)\n",
      "File \u001b[0;32m/opt/anaconda3/lib/python3.12/site-packages/torch/nn/modules/module.py:1520\u001b[0m, in \u001b[0;36mModule._call_impl\u001b[0;34m(self, *args, **kwargs)\u001b[0m\n\u001b[1;32m   1515\u001b[0m \u001b[38;5;66;03m# If we don't have any hooks, we want to skip the rest of the logic in\u001b[39;00m\n\u001b[1;32m   1516\u001b[0m \u001b[38;5;66;03m# this function, and just call forward.\u001b[39;00m\n\u001b[1;32m   1517\u001b[0m \u001b[38;5;28;01mif\u001b[39;00m \u001b[38;5;129;01mnot\u001b[39;00m (\u001b[38;5;28mself\u001b[39m\u001b[38;5;241m.\u001b[39m_backward_hooks \u001b[38;5;129;01mor\u001b[39;00m \u001b[38;5;28mself\u001b[39m\u001b[38;5;241m.\u001b[39m_backward_pre_hooks \u001b[38;5;129;01mor\u001b[39;00m \u001b[38;5;28mself\u001b[39m\u001b[38;5;241m.\u001b[39m_forward_hooks \u001b[38;5;129;01mor\u001b[39;00m \u001b[38;5;28mself\u001b[39m\u001b[38;5;241m.\u001b[39m_forward_pre_hooks\n\u001b[1;32m   1518\u001b[0m         \u001b[38;5;129;01mor\u001b[39;00m _global_backward_pre_hooks \u001b[38;5;129;01mor\u001b[39;00m _global_backward_hooks\n\u001b[1;32m   1519\u001b[0m         \u001b[38;5;129;01mor\u001b[39;00m _global_forward_hooks \u001b[38;5;129;01mor\u001b[39;00m _global_forward_pre_hooks):\n\u001b[0;32m-> 1520\u001b[0m     \u001b[38;5;28;01mreturn\u001b[39;00m forward_call(\u001b[38;5;241m*\u001b[39margs, \u001b[38;5;241m*\u001b[39m\u001b[38;5;241m*\u001b[39mkwargs)\n\u001b[1;32m   1522\u001b[0m \u001b[38;5;28;01mtry\u001b[39;00m:\n\u001b[1;32m   1523\u001b[0m     result \u001b[38;5;241m=\u001b[39m \u001b[38;5;28;01mNone\u001b[39;00m\n",
      "Cell \u001b[0;32mIn[162], line 21\u001b[0m, in \u001b[0;36mMnist_NN.forward\u001b[0;34m(self, x)\u001b[0m\n\u001b[1;32m     19\u001b[0m \u001b[38;5;28;01mdef\u001b[39;00m \u001b[38;5;21mforward\u001b[39m(\u001b[38;5;28mself\u001b[39m,x):\n\u001b[1;32m     20\u001b[0m     \u001b[38;5;66;03m#激活函数\u001b[39;00m\n\u001b[0;32m---> 21\u001b[0m     x\u001b[38;5;241m=\u001b[39mF\u001b[38;5;241m.\u001b[39mrelu(\u001b[38;5;28mself\u001b[39m\u001b[38;5;241m.\u001b[39mhidden1(x))\n\u001b[1;32m     22\u001b[0m     x\u001b[38;5;241m=\u001b[39mF\u001b[38;5;241m.\u001b[39mrelu(\u001b[38;5;28mself\u001b[39m\u001b[38;5;241m.\u001b[39mhidden2(x))\n\u001b[1;32m     23\u001b[0m     x\u001b[38;5;241m=\u001b[39m\u001b[38;5;28mself\u001b[39m\u001b[38;5;241m.\u001b[39mout(x)\n",
      "File \u001b[0;32m/opt/anaconda3/lib/python3.12/site-packages/torch/nn/modules/module.py:1511\u001b[0m, in \u001b[0;36mModule._wrapped_call_impl\u001b[0;34m(self, *args, **kwargs)\u001b[0m\n\u001b[1;32m   1509\u001b[0m     \u001b[38;5;28;01mreturn\u001b[39;00m \u001b[38;5;28mself\u001b[39m\u001b[38;5;241m.\u001b[39m_compiled_call_impl(\u001b[38;5;241m*\u001b[39margs, \u001b[38;5;241m*\u001b[39m\u001b[38;5;241m*\u001b[39mkwargs)  \u001b[38;5;66;03m# type: ignore[misc]\u001b[39;00m\n\u001b[1;32m   1510\u001b[0m \u001b[38;5;28;01melse\u001b[39;00m:\n\u001b[0;32m-> 1511\u001b[0m     \u001b[38;5;28;01mreturn\u001b[39;00m \u001b[38;5;28mself\u001b[39m\u001b[38;5;241m.\u001b[39m_call_impl(\u001b[38;5;241m*\u001b[39margs, \u001b[38;5;241m*\u001b[39m\u001b[38;5;241m*\u001b[39mkwargs)\n",
      "File \u001b[0;32m/opt/anaconda3/lib/python3.12/site-packages/torch/nn/modules/module.py:1520\u001b[0m, in \u001b[0;36mModule._call_impl\u001b[0;34m(self, *args, **kwargs)\u001b[0m\n\u001b[1;32m   1515\u001b[0m \u001b[38;5;66;03m# If we don't have any hooks, we want to skip the rest of the logic in\u001b[39;00m\n\u001b[1;32m   1516\u001b[0m \u001b[38;5;66;03m# this function, and just call forward.\u001b[39;00m\n\u001b[1;32m   1517\u001b[0m \u001b[38;5;28;01mif\u001b[39;00m \u001b[38;5;129;01mnot\u001b[39;00m (\u001b[38;5;28mself\u001b[39m\u001b[38;5;241m.\u001b[39m_backward_hooks \u001b[38;5;129;01mor\u001b[39;00m \u001b[38;5;28mself\u001b[39m\u001b[38;5;241m.\u001b[39m_backward_pre_hooks \u001b[38;5;129;01mor\u001b[39;00m \u001b[38;5;28mself\u001b[39m\u001b[38;5;241m.\u001b[39m_forward_hooks \u001b[38;5;129;01mor\u001b[39;00m \u001b[38;5;28mself\u001b[39m\u001b[38;5;241m.\u001b[39m_forward_pre_hooks\n\u001b[1;32m   1518\u001b[0m         \u001b[38;5;129;01mor\u001b[39;00m _global_backward_pre_hooks \u001b[38;5;129;01mor\u001b[39;00m _global_backward_hooks\n\u001b[1;32m   1519\u001b[0m         \u001b[38;5;129;01mor\u001b[39;00m _global_forward_hooks \u001b[38;5;129;01mor\u001b[39;00m _global_forward_pre_hooks):\n\u001b[0;32m-> 1520\u001b[0m     \u001b[38;5;28;01mreturn\u001b[39;00m forward_call(\u001b[38;5;241m*\u001b[39margs, \u001b[38;5;241m*\u001b[39m\u001b[38;5;241m*\u001b[39mkwargs)\n\u001b[1;32m   1522\u001b[0m \u001b[38;5;28;01mtry\u001b[39;00m:\n\u001b[1;32m   1523\u001b[0m     result \u001b[38;5;241m=\u001b[39m \u001b[38;5;28;01mNone\u001b[39;00m\n",
      "File \u001b[0;32m/opt/anaconda3/lib/python3.12/site-packages/torch/nn/modules/linear.py:116\u001b[0m, in \u001b[0;36mLinear.forward\u001b[0;34m(self, input)\u001b[0m\n\u001b[1;32m    115\u001b[0m \u001b[38;5;28;01mdef\u001b[39;00m \u001b[38;5;21mforward\u001b[39m(\u001b[38;5;28mself\u001b[39m, \u001b[38;5;28minput\u001b[39m: Tensor) \u001b[38;5;241m-\u001b[39m\u001b[38;5;241m>\u001b[39m Tensor:\n\u001b[0;32m--> 116\u001b[0m     \u001b[38;5;28;01mreturn\u001b[39;00m F\u001b[38;5;241m.\u001b[39mlinear(\u001b[38;5;28minput\u001b[39m, \u001b[38;5;28mself\u001b[39m\u001b[38;5;241m.\u001b[39mweight, \u001b[38;5;28mself\u001b[39m\u001b[38;5;241m.\u001b[39mbias)\n",
      "\u001b[0;31mRuntimeError\u001b[0m: mat1 and mat2 must have the same dtype, but got Byte and Float"
     ]
    }
   ],
   "source": [
    "\n",
    "import numpy as np\n",
    "import torch.nn.functional as F\n",
    "\n",
    "from torch.utils.data import TensorDataset\n",
    "from torch.utils.data import DataLoader\n",
    "from torch import optim\n",
    "\n",
    "from torch import nn\n",
    "\n",
    "class Mnist_NN(nn.Module):\n",
    "    def __init__(self):\n",
    "        super().__init__()\n",
    "        #28*28 全链接层\n",
    "        self.hidden1 = nn.Linear(784,128)\n",
    "        self.hidden2 = nn.Linear(128,256)\n",
    "        self.out = nn.Linear(256,10)\n",
    "\n",
    "    #前向传播 (反向传播 torch框架自动处理)\n",
    "    def forward(self,x):\n",
    "        #激活函数\n",
    "        x=F.relu(self.hidden1(x))\n",
    "        x=F.relu(self.hidden2(x))\n",
    "        x=self.out(x)\n",
    "        return x\n",
    "\n",
    "loss_func = F.cross_entropy\n",
    "\n",
    "bs = 64\n",
    "\n",
    "train_ds = TensorDataset(x_train, y_train)\n",
    "vaild_ds = TensorDataset(x_valid, y_valid)\n",
    "\n",
    "# 方便batch取数据\n",
    "def get_data(train_ds, vaild_ds, bs):\n",
    "    return (\n",
    "        DataLoader(train_ds, batch_size=bs, shuffle=True),\n",
    "        DataLoader(vaild_ds, batch_size=bs * 2)\n",
    "    )\n",
    "\n",
    "# model.train() # 训练模式 会使用Batch Normalization 和 Dropout\n",
    "# model.eval() # 验证模式 不会使用\n",
    "\n",
    "# 训练函数\n",
    "def fit(steps, model, loss_func, opt, train_dl, vaild_dl):\n",
    "    for step in range(steps):\n",
    "        model.train()  # 训练模式\n",
    "        for xb, yb in train_dl:\n",
    "            # loss_func(model,loss_func,xb,yb,opt)\n",
    "            loss_batch(model, loss_func, xb, yb, opt)\n",
    "\n",
    "        model.eval()  # 验证模式\n",
    "        with torch.no_grad():\n",
    "            losses, nums = zip(\n",
    "                *[loss_batch(model, loss_func, xb, yb) for xb, yb in vaild_dl]\n",
    "            )\n",
    "        val_loss = np.sum(np.multiply(losses, nums)) / np.sum(nums)\n",
    "        print(f\"当前{step}:验证集损失{val_loss}\")\n",
    "\n",
    "\n",
    "\n",
    "\n",
    "def get_model():\n",
    "    model = Mnist_NN()\n",
    "    return model, optim.SGD(model.parameters(), lr=0.001)\n",
    "\n",
    "\n",
    "def loss_batch(model, loss_func, xb, yb, opt=None):\n",
    "    loss = loss_func(model(xb), yb)\n",
    "\n",
    "    if opt is not None:\n",
    "        loss.backward()\n",
    "        opt.step()\n",
    "        opt.zero_grad()\n",
    "\n",
    "    return loss.item(), len(xb)\n",
    "\n",
    "def model(xb):\n",
    "    return xb.mm(weights) + bias\n",
    "\n",
    "\n",
    "# 实际执行\n",
    "train_dl, vaild_dl = get_data(train_ds, vaild_ds, bs)\n",
    "model,opt = get_model()\n",
    "fit(25, model, loss_func, opt, train_dl, vaild_dl)\n"
   ]
  },
  {
   "cell_type": "code",
   "execution_count": null,
   "id": "bbc7919c-c2c3-46a3-a0e4-332f3028a46b",
   "metadata": {},
   "outputs": [],
   "source": []
  }
 ],
 "metadata": {
  "kernelspec": {
   "display_name": "Python [conda env:base] *",
   "language": "python",
   "name": "conda-base-py"
  },
  "language_info": {
   "codemirror_mode": {
    "name": "ipython",
    "version": 3
   },
   "file_extension": ".py",
   "mimetype": "text/x-python",
   "name": "python",
   "nbconvert_exporter": "python",
   "pygments_lexer": "ipython3",
   "version": "3.12.7"
  }
 },
 "nbformat": 4,
 "nbformat_minor": 5
}
