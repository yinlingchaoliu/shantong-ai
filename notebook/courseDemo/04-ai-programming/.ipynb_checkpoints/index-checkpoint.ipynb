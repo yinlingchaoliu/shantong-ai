{
 "cells": [
  {
   "cell_type": "markdown",
   "id": "39208ce8",
   "metadata": {},
   "source": [
    "## 暖场讨论\n",
    "\n",
    "1. 你是管理层吗？做管理比做一线有什么爽的？\n",
    "2. 你是一线开发吗？吐槽下你对管理层的看法吧。\n"
   ]
  },
  {
   "cell_type": "markdown",
   "id": "2aef9505-ce05-4c56-b2a4-4eb69cd80fc7",
   "metadata": {
    "tags": []
   },
   "source": [
    "## 💡 这节课会带给你\n"
   ]
  },
  {
   "cell_type": "markdown",
   "id": "b2702a9f-0ee2-47dd-a417-6d223a29fdb2",
   "metadata": {
    "jp-MarkdownHeadingCollapsed": true,
    "tags": []
   },
   "source": [
    "1. 如何用 AI 辅助编程，提升工作效率和幸福感\n",
    "1. 如何用 AI 快速应用和学习新技术，扩展职业边界\n",
    "1. 通过 AI 编程，洞察 AI 对各个行业的影响\n",
    "\n",
    "开始上课！\n"
   ]
  },
  {
   "cell_type": "markdown",
   "id": "95c56ef9",
   "metadata": {},
   "source": [
    "## 先卖个焦虑\n"
   ]
  },
  {
   "cell_type": "markdown",
   "id": "2e9d6418",
   "metadata": {},
   "source": [
    "<img src=\"jiang-liu.png\" style=\"margin-left: 0px\">\n",
    "\n",
    "刘韧所述有夸张，但趋势是对的。蒋涛所说，是他的真实想法，他也在这么做。\n"
   ]
  },
  {
   "cell_type": "markdown",
   "id": "d858865e-a95b-4d87-a7ee-cdd3b9c438b9",
   "metadata": {
    "tags": []
   },
   "source": [
    "## AI 编程，不只是提效\n"
   ]
  },
  {
   "cell_type": "markdown",
   "id": "adc44093-798c-44e3-ae3f-4037595adf5e",
   "metadata": {
    "jp-MarkdownHeadingCollapsed": true,
    "tags": []
   },
   "source": [
    "我真是前端小白，ChatALL 真是[靠 AI 打的基础](https://github.com/sunner/ChatALL/commits/main?after=88feb406f09a466eada4e5e0af2df1e39c3e2c95+653&branch=main&qualified_name=refs%2Fheads%2Fmain)。\n",
    "\n",
    "感受：用上 AI 编程，秒变技术总监，并拥有一个**不疲倦、不拒绝、不抱怨、不顶嘴、不要加薪**的全能下属。\n",
    "\n",
    "1. 省却繁琐重复性工作，幸福感提升。但下属表现不稳定，也挺闹心\n",
    "2. 突破个人能力边界，下属会就相当于我会。但总拿不准下属做得对不对，怕被糊弄\n",
    "\n",
    "当总监还能锻炼管理意识，而当 AI 的总监，能锻炼 AI 意识：\n",
    "\n",
    "- 「编程」是目前大模型能力最强的垂直领域，甚至超越了对「自然语言」本身的处理能力\n",
    "- 知道怎么用好 AI 编程，了解它的能力边界、使用场景，就能类比出在其他领域怎么用好 AI，能力边界在哪\n",
    "\n",
    "所以：\n",
    "\n",
    "<div class=\"alert alert-success\">\n",
    "<b>划重点：</b>使用 AI 编程，除了解决编程问题以外，更重要是建立 AI 意识，形成对 AI 的正确认知。\n",
    "</div>\n"
   ]
  },
  {
   "cell_type": "markdown",
   "id": "cef28e51",
   "metadata": {
    "tags": []
   },
   "source": [
    "## 咱们，直接实操吧\n"
   ]
  },
  {
   "cell_type": "markdown",
   "id": "309c4e5d",
   "metadata": {},
   "source": [
    "[这里](https://agiclass.feishu.cn/docx/ChB9ddM9CogxGtxmLetcCfVsnCc)是收集的大家想让 AI 做的事情，直接让 AI 撸一个。\n",
    "\n",
    "用到的工具：\n",
    "\n",
    "1. [ChatGPT（GPT-4）](https://chat.openai.com/?model=gpt-4)\n",
    "2. [GitHub Copilot](https://github.com/features/copilot)\n",
    "3. [GitHub Copilot chat](https://github.com/github-copilot/chat_waitlist_signup/join)\n"
   ]
  },
  {
   "cell_type": "markdown",
   "id": "723c0350",
   "metadata": {
    "tags": []
   },
   "source": [
    "## 实操完毕\n",
    "\n",
    "<div class=\"alert alert-warning\">\n",
    "<b>思考：</b>说说你都有什么感受？\n",
    "</div>\n"
   ]
  },
  {
   "cell_type": "markdown",
   "id": "4699110c",
   "metadata": {
    "tags": []
   },
   "source": [
    "## Kent Beck 用过 AI 编程之后……\n"
   ]
  },
  {
   "cell_type": "markdown",
   "id": "78cc143d",
   "metadata": {},
   "source": [
    "<img src=\"kent-beck.png\" width=\"400\" />\n",
    "\n",
    "好，开始总结我们的方法论。\n"
   ]
  },
  {
   "cell_type": "markdown",
   "id": "6210d200-ca13-4445-ad79-f82d115e9a7d",
   "metadata": {
    "tags": []
   },
   "source": [
    "## 适用条件\n"
   ]
  },
  {
   "cell_type": "markdown",
   "id": "2b69fb8f",
   "metadata": {},
   "source": [
    "1. 技术我懂，不想自己写\n",
    "   - 快速完成重复性工作\n",
    "   - 知道是咋回事，但要费费脑子才能写出来\n",
    "2. 技术不大懂，让 AI 先做，自己边用边学\n",
    "   - 当心它犯错\n",
    "   - 当心给的不是最佳方案\n",
    "\n",
    "如果完全不懂技术，**不要**指望能用 AI 完成真实系统的编程任务！\n"
   ]
  },
  {
   "cell_type": "markdown",
   "id": "6e5cb881",
   "metadata": {
    "tags": []
   },
   "source": [
    "## 典型的提示工程，但可控性更好\n"
   ]
  },
  {
   "cell_type": "markdown",
   "id": "4627af5d",
   "metadata": {},
   "source": [
    "回顾下提示工程的要点：\n",
    "\n",
    "<div class=\"alert alert-success\">\n",
    "<b>划重点：</b>\n",
    "<ol>\n",
    "<li>想让 AI 做什么，就先给它定义一个最擅长做此事的角色</li>\n",
    "<li>用好思维链，结果更准确</li>\n",
    "<li>如果可能，用英文撰写核心 prompt，会比中文成功概率更大</li>\n",
    "<li>一切技巧，都是为了让 prompt 里的信息更丰富、具体、准确</li>\n",
    "</ol>\n",
    "</div>\n",
    "\n",
    "编程的提示指令，也是一样的。但可控性更好，因为：\n",
    "\n",
    "1. OpenAI 对编程进行了专门训练，涌现了很多相关能力，内化在了模型参数，对相关 prompt 更敏感。比如，基本不需要定义角色\n",
    "2. 代码几乎无二义性，减少了胡说八道的概率\n",
    "3. 代码本身的信息已经丰富、具体、准确，人工指令只是补充，所以不需要太多技巧\n",
    "\n",
    "但是，仍然要用好思维链，别期待一步到位。因为：\n",
    "\n",
    "1. 大任务非常容易超过模型的 token 数限制\n",
    "2. 过程正确更有助于最终结果正确\n"
   ]
  },
  {
   "cell_type": "markdown",
   "id": "5c8ef420-c793-4aee-a9e9-4837c8113188",
   "metadata": {
    "tags": []
   },
   "source": [
    "## 工具和技巧\n"
   ]
  },
  {
   "cell_type": "markdown",
   "id": "243e12b2",
   "metadata": {},
   "source": [
    "AI 编程就两个套路：\n",
    "\n",
    "1. 对话界面里贴代码，提问\n",
    "2. IDE 里直接补全\n",
    "\n",
    "<div class=\"alert alert-success\">\n",
    "<b>划重点：</b>\n",
    "<ol>\n",
    "<li>GPT-4 是目前最强编程大模型，没有之一。第二强是 GPT-3.5。<b>剩下的非不得已不要用</b></li>\n",
    "<li>对话界面</li>\n",
    "    <ul>\n",
    "    <li>首选购买 ChatGPT Plus，使用 GPT-4</li>\n",
    "    <li>次选，用 ChatALL 同时打开 ChatGPT 3.5 + 三个风格的 Bing Chat</li>\n",
    "    <li>再次选，用 Copilot chat。简单任务也可以优先交给它，体验更好</li>\n",
    "    <li>别太依赖上下文，尽量在最近 5 轮对话内覆盖所有信息，时不时重新开始对话</li>\n",
    "    <li>新技术的使用，还是老实看文档比较好</li>\n",
    "    </ul>\n",
    "<li>IDE 中首推 GitHub Copilot</li>\n",
    "    <ul>\n",
    "    <li>虽然每月 10 美元，但确实比其它免费的好用很多</li>\n",
    "    <li>主要用来快速补全代码、注释</li>\n",
    "    <li>别用写注释出代码能力，不如把注释当指令给到 ChatALL</li>\n",
    "    <li>Copilot chat 生成测试用例很好用\n",
    "    </ul>\n",
    "<li>注意保护公司知识产权，国情使用首推 CodeGeeX</li>\n",
    "</ol>\n",
    "</div>\n"
   ]
  },
  {
   "cell_type": "markdown",
   "id": "2fe18c17",
   "metadata": {
    "tags": []
   },
   "source": [
    "## 国产开源 CodeGeeX\n"
   ]
  },
  {
   "cell_type": "markdown",
   "id": "a6a75946",
   "metadata": {},
   "source": [
    "[CodeGeeX](https://github.com/THUDM/CodeGeeX) 是 GitHub Copilot 的替代品。\n",
    "\n",
    "1. 纯国产，智谱 AI 制造\n",
    "2. IDE 插件免费使用\n",
    "3. 模型开源，个人使用免费，商用需授权\n"
   ]
  },
  {
   "cell_type": "markdown",
   "id": "1c87f4d9",
   "metadata": {},
   "source": [
    "## 其它工具\n"
   ]
  },
  {
   "cell_type": "markdown",
   "id": "8e8417c8",
   "metadata": {},
   "source": [
    "1. [Bito](https://bito.ai/) - 基于 GPT-3.5 的代码补全，免费。功能更多，比如可以自建 prompt 模板。**CLI 工具值得一用**\n",
    "2. [Amazon CodeWhisperer](https://aws.amazon.com/codewhisperer/) - 代码补全，免费。AWS 相关的编程能力卓越。其它凑合\n",
    "3. [Cursor](https://www.cursor.so/) - AI first 的 IDE。被逼开源\n",
    "4. [Tabnine](https://www.tabnine.com/) - 代码补全，个人基础版免费\n"
   ]
  },
  {
   "cell_type": "markdown",
   "id": "60147bf2-559b-4e7c-8949-34716b04279d",
   "metadata": {
    "tags": []
   },
   "source": [
    "## 总结典型使用场景\n"
   ]
  },
  {
   "cell_type": "markdown",
   "id": "a8231138",
   "metadata": {},
   "source": [
    "1. 给出需求，获得技术选型建议\n",
    "1. 完成全局框架搭建，比如：工程框架，类的框架（不建议框架和功能一起完成，容易超过 GPT 处理能力）\n",
    "1. 完成局部小型任务。比如：一个函数，正则表达式，全套 try-catch，对某 API 的调用等\n",
    "1. 对已有代码改写，比如：加功能、注释、测试用例，让代码更易读、易维护、更安全\n",
    "1. 根据错误信息改 bug\n",
    "1. 解释代码，辅助阅读代码\n",
    "1. 开发工具使用，比如：VSCode 配置，各种命令行参数\n",
    "1. 询问技术问题\n",
    "\n",
    "延伸阅读：[ChatGPT 编程能力调研报告](https://mp.weixin.qq.com/s/IUifrzt8UINQ9PRDdQ7yPw)\n"
   ]
  },
  {
   "cell_type": "markdown",
   "id": "12f1bc34",
   "metadata": {},
   "source": [
    "## Code Interpreter 是目前制高点\n"
   ]
  },
  {
   "cell_type": "markdown",
   "id": "fb9df5a1",
   "metadata": {},
   "source": [
    "1. 它能自我修正代码\n",
    "2. Python 项目可以狠狠依赖它\n",
    "3. 其它项目可以先让它用 Python 写，然后翻译成别的语言\n"
   ]
  },
  {
   "cell_type": "markdown",
   "id": "330fef1a",
   "metadata": {},
   "source": [
    "## 看未来\n"
   ]
  },
  {
   "cell_type": "markdown",
   "id": "af115999",
   "metadata": {},
   "source": [
    "### GPT Engineer\n",
    "\n",
    "https://github.com/AntonOsika/gpt-engineer\n",
    "\n",
    "指定您想要它构建的内容，AI 会要求澄清，然后构建它。\n",
    "\n",
    "只需三步操作：\n",
    "\n",
    "```bash\n",
    "pip install gpt-engineer\n",
    "vim prompt\n",
    "gpt-engineer .\n",
    "```\n",
    "\n",
    "核心 prompts：https://github.com/AntonOsika/gpt-engineer/tree/main/gpt_engineer/preprompts\n",
    "\n",
    "一句话评价：什么都能干，所以还什么都干不好。\n"
   ]
  },
  {
   "cell_type": "markdown",
   "id": "91a3c8f5",
   "metadata": {},
   "source": [
    "### GPT Web App Generator\n",
    "\n",
    "主页：https://magic-app-generator.wasp-lang.dev/\n",
    "\n",
    "源代码：https://github.com/wasp-lang/wasp/tree/wasp-ai\n",
    "\n",
    "用 Wasp, React, Node.js 和 Prisma 生成全栈 Web 应用程序。\n",
    "\n",
    "纯在线操作，跟着提示下载到本地执行。\n",
    "\n",
    "核心 prompts：https://github.com/wasp-lang/wasp/blob/wasp-ai/waspc/src/Wasp/AI/GenerateNewProject/Operation.hs\n",
    "\n",
    "一句话评价：限定了技术栈，用参数做配置，提供框架代码，成品率更高。各种框架都可以效仿。\n"
   ]
  },
  {
   "cell_type": "markdown",
   "id": "ac4fd524",
   "metadata": {},
   "source": [
    "### MetaGPT：多智能体元编程框架\n",
    "\n",
    "https://github.com/geekan/MetaGPT\n",
    "\n",
    "使 GPTs 组成软件公司，协作处理更复杂的任务。\n",
    "\n",
    "官方说明：\n",
    "\n",
    "1. MetaGPT 输入**一句话的老板需求**，输出**用户故事 / 竞品分析 / 需求 / 数据结构 / APIs / 文件等**\n",
    "2. MetaGPT 内部包括**产品经理 / 架构师 / 项目经理 / 工程师**，它提供了一个**软件公司**的全过程与精心调配的 SOP\n",
    "\n",
    "![公司](https://github.com/geekan/MetaGPT/raw/main/docs/resources/software_company_cd.jpeg)\n",
    "\n",
    "它不只写代码，而且写文档、画图。\n",
    "\n",
    "安装比较繁琐，而且我没成功……\n",
    "\n",
    "核心 prompts：https://github.com/geekan/MetaGPT/tree/main/metagpt/prompts\n",
    "\n",
    "一句话评价： 让 agent 模拟岗位这个思路挺有意思。未来的公司就是人和 agent 混合的，这样的系统架构更匹配公司治理。\n"
   ]
  },
  {
   "cell_type": "markdown",
   "id": "4f32694f",
   "metadata": {},
   "source": [
    "## 从 AI 编程看 AI 当前上限\n"
   ]
  },
  {
   "cell_type": "markdown",
   "id": "e52e299a",
   "metadata": {},
   "source": [
    "1. 能解决很多问题，但也会有误导\n",
    "2. 不稳定持续存在\n",
    "3. 「人工确认」必不可少\n",
    "\n",
    "所以：\n",
    "\n",
    "1. 客观看待 AI，别神化\n",
    "2. 合格的「确认官」很重要\n"
   ]
  },
  {
   "cell_type": "markdown",
   "id": "c095fbe6",
   "metadata": {
    "tags": []
   },
   "source": [
    "## 彩蛋\n"
   ]
  },
  {
   "cell_type": "markdown",
   "id": "f028e786",
   "metadata": {},
   "source": [
    "Copilot 白嫖指南：\n",
    "\n",
    "- 参与开源项目，可免费使用\n",
    "- 在校生，免费使用。[在此申请](https://docs.github.com/en/education/explore-the-benefits-of-teaching-and-learning-with-github-education/github-global-campus-for-students/apply-to-github-global-campus-as-a-student)\n",
    "- 假装成高校教师，免费使用\n",
    "  1. 需要有一个 edu 邮箱（据说淘宝能买）\n",
    "  2. 到[这里](https://docs.github.com/en/education/explore-the-benefits-of-teaching-and-learning-with-github-education/github-global-campus-for-teachers/apply-to-github-global-campus-as-a-teacher)申请\n",
    "  3. 要上传证明时，大概传个中文文件，就能过……\n"
   ]
  },
  {
   "cell_type": "markdown",
   "id": "82d82a94",
   "metadata": {},
   "source": [
    "## 作业\n"
   ]
  },
  {
   "cell_type": "markdown",
   "id": "84f1fcce",
   "metadata": {},
   "source": [
    "还作啥业啊，赶快用起来吧！\n"
   ]
  },
  {
   "cell_type": "markdown",
   "id": "f1256643",
   "metadata": {},
   "source": [
    "## 课后调查\n"
   ]
  },
  {
   "cell_type": "markdown",
   "id": "37ab69d2",
   "metadata": {},
   "source": [
    "请点击链接或扫码填写问卷，帮助我们持续改进课程内容。谢谢！\n",
    "\n",
    "https://agiclass.feishu.cn/share/base/form/shrcnU6ywdMDS2caxf6gp7dYQ63\n",
    "\n",
    "<img src=\"../survey.png\" width=\"200\" style=\"margin-left: 0px\">\n"
   ]
  }
 ],
 "metadata": {
  "kernelspec": {
   "display_name": "Python 3 (ipykernel)",
   "language": "python",
   "name": "python3"
  },
  "language_info": {
   "codemirror_mode": {
    "name": "ipython",
    "version": 3
   },
   "file_extension": ".py",
   "mimetype": "text/x-python",
   "name": "python",
   "nbconvert_exporter": "python",
   "pygments_lexer": "ipython3",
   "version": "3.11.4"
  }
 },
 "nbformat": 4,
 "nbformat_minor": 5
}
