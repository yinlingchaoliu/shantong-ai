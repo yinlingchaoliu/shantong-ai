{
 "cells": [
  {
   "cell_type": "markdown",
   "metadata": {},
   "source": [
    "## 解读本课大纲\n",
    "\n",
    "1. 课程大纲的设计初心\n",
    "2. 每部分能给你带来什么\n",
    "3. 做自己的选择，定自己的目标\n"
   ]
  },
  {
   "cell_type": "markdown",
   "metadata": {
    "jp-MarkdownHeadingCollapsed": true
   },
   "source": [
    "## 我们的初心\n",
    "\n",
    "我们相信，**懂 AI、懂编程、懂业务**的超级个体，会是 AGI 时代最重要的人。所以我们提出了「AI 全栈工程师」这个概念，让它显得不那么浮夸。\n",
    "\n",
    "这门课的目标，就是培养「AI 全栈」。\n",
    "\n",
    "当然，「全栈」涉及的知识面非常广，我们这区区一门课不可能全部涉及。我们能做到的是，在各个方向上都为大家打开一扇门，带大家入门。想走得更深更远，要靠大家自己，和我们的社群。\n",
    "\n",
    "但是，「入门」并不代表简单、肤浅。我们的课程会在三个层次发力：\n",
    "\n",
    "1. 原理\n",
    "2. 实践\n",
    "3. 认知\n",
    "\n",
    "**不懂原理**就不会举一反三，走不了太远。\n",
    "\n",
    "**不懂实践**就只能纸上谈兵，做事不落地。\n",
    "\n",
    "**认知不高**就无法做对决策，天花板太低。\n"
   ]
  },
  {
   "cell_type": "markdown",
   "metadata": {},
   "source": [
    "## 大纲解读\n",
    "\n",
    "| 模块                       | 目的                                             | 原理                           | 实践                                    | 认知                                   |\n",
    "| :------------------------- | :----------------------------------------------- | :----------------------------- | :-------------------------------------- | :------------------------------------- |\n",
    "| AI 大模型基础介绍          | 对大模型有直观的、基础的了解，以展开后续课程学习 | 大模型最基础的原理             | 搞定环境搭建和工具的使用                | 大模型并不神奇，也不神秘               |\n",
    "| Prompt Engineering         | 操纵大模型的基础方法                             | 让 prompt 更大概率生效的原理   | 使用 prompt 和调用 OpenAI API           | 程序思维从确定性到模糊性的变化         |\n",
    "| Function Calling & Plugins | Prompt 和编程结合的当前最高级手段                | Fine-tuning 比 prompt 更稳定   | 使用 Function Calling 解决问题          | 人机接口和机器接口的演化方向           |\n",
    "| AI 编程                    | 学会用 AI 辅助编程，助力接下来的学习             | AI 编程也是 prompt engineering | 使用 AI 编程解决问题                    | 从 AI 编程看提示工程和 AI 能力的天花板 |\n",
    "| LangChain                  | 用 LangChain 开发大模型应用                      | 什么是 embeddings              | 使用 LangChain 开发应用                 | 各种大模型应用的技术套路               |\n",
    "| Semantic Kernel            | LangChain 之外的另一个选择                       | -                              | 使用 Semantic Kernel 开发应用           | Prompt 和代码分离的思想                |\n",
    "| Fine-tuning                | 学会大模型应用技术的天花板                       | 机器学习基础                   | 训练出自己的独特大模型                  | 大模型、GPU 选型                       |\n",
    "| AI 产品设计                | 独立完成 AI 产品设计，成为 AI 全栈               | 商业、美学、用户体验的基本原理 | 设计商业模式，绘制原型图，快速做出 demo | 什么是好的产品。技术含量高不代表产品好 |\n",
    "| 业务沟通锦囊               | 没有产品经理帮忙，也能直面业务同事               | 与人沟通的基本原理             | 高效收集需求和反馈                      | 做得好，多数时候确实不如说得妙         |\n",
    "| AI 绘画                    | AI 绘画，陶冶情操                                | 文生图的原理                   | 使用 prompt 绘画                        | -                                      |\n"
   ]
  },
  {
   "cell_type": "markdown",
   "metadata": {},
   "source": [
    "## 定自己的目标\n",
    "\n",
    "在全栈的知识面上，一个人把三层全占满是不太可能的。\n",
    "\n",
    "每个人要根据自己的特点、目标和机遇，选择自己的方向。\n"
   ]
  }
 ],
 "metadata": {
  "kernelspec": {
   "display_name": "Python 3 (ipykernel)",
   "language": "python",
   "name": "python3"
  },
  "language_info": {
   "codemirror_mode": {
    "name": "ipython",
    "version": 3
   },
   "file_extension": ".py",
   "mimetype": "text/x-python",
   "name": "python",
   "nbconvert_exporter": "python",
   "pygments_lexer": "ipython3",
   "version": "3.11.4"
  }
 },
 "nbformat": 4,
 "nbformat_minor": 4
}
