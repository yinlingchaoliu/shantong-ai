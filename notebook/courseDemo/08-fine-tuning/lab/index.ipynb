{
    "cells": [
        {
            "cell_type": "markdown",
            "metadata": {},
            "source": [
                "## AI 全栈工程师课程 Fine-tuning 实验指导\n"
            ]
        },
        {
            "cell_type": "markdown",
            "metadata": {},
            "source": [
                "## 搭建环境\n",
                "\n",
                "我们选择 AutoDL 的 4090 云 GPU 做为标准实验环境。因为独立部署自己训练的大模型， 4090 是目前性价比最高的方案。\n",
                "\n",
                "如果要大规模部署，那还是推荐阿里云等大型云服务商的 V100 等 GPU 云主机。阿里云提供免费试用，可以到[这里申请](https://free.aliyun.com/?product=9602825&spm=5176.28055625.J_5831864660.9.e939154aYoM8ST&scm=20140722.M_9553144.P_154.MO_1802-ID_9553144-MID_9553144-CID_20080-ST_7663-V_1)。\n",
                "\n",
                "### 第一步：注册 AutoDL 官网并实名认证\n",
                "\n",
                "官网地址：https://www.autodl.com/\n",
                "\n",
                "按常规方法注册、登录后，还要做[个人实名认证](https://www.autodl.com/console/center/account/safe)。\n",
                "\n",
                "如果不实名认证，无法从浏览器访问你训练的大模型，看不到训练效果。\n"
            ]
        },
        {
            "cell_type": "markdown",
            "metadata": {},
            "source": [
                "### 第二步：兑换余额\n",
                "\n",
                "找班班获取兑换码，然后进入[控制台](https://www.autodl.com/console/homepage/personal)，兑换代金券，获取我们赠送的额度\n",
                "\n",
                "![兑换卷](./coupon_input.png)\n",
                "\n",
                "兑换成功会显示如下界面\n",
                "\n",
                "![兑换成功](./coupon_success.png)\n",
                "\n",
                "如果获得的额度没能完成实验，可以联系班班获取更多的额度。\n"
            ]
        },
        {
            "cell_type": "markdown",
            "metadata": {},
            "source": [
                "### 第三步：挑选 GPU\n",
                "\n",
                "点击[算力市场](https://www.autodl.com/market/list)，挑选 GPU。\n",
                "\n",
                "RTX 4090，显存大于 20GB 的均可。选中后，点击「n 卡可租」。\n",
                "\n",
                "![创建容器](./choose_gpu.png)\n"
            ]
        },
        {
            "cell_type": "markdown",
            "metadata": {},
            "source": [
                "### 第四步：创建容器\n",
                "\n",
                "只需选择一个 GPU，然后点击「社区镜像」，搜索 `agiclass/fine-tuning/lab` ，选择最新版，然后点击「立即创建」\n",
                "\n",
                "![创建容器](./create_docker.png)\n",
                "\n",
                "在[容器实例](https://www.autodl.com/console/instance/list)中可以看到刚创建的容器。当「状态」为「运行中」时，表示创建完成，并且开始计费。\n",
                "\n",
                "如果想暂停计费，请点击「关机」。下次需要使用时，再点击「开机」。\n",
                "\n",
                "`agiclass/fine-tuning/lab` 是我们制作的容器镜像。它预设好了所有的实验环境，下载好了所有权重、数据集和代码。下一节课我们会讲述如何从头自己创建环境。\n"
            ]
        },
        {
            "cell_type": "markdown",
            "metadata": {},
            "source": [
                "## 运行未经微调的基础大模型\n",
                "\n",
                "通过这个过程，检验环境是否搭建正确。\n",
                "\n",
                "### 第五步：ssh 登录容器\n",
                "\n",
                "在自己电脑的命令行工具内，通过 ssh 登录容器。可以从[容器实例](https://www.autodl.com/console/instance/list)页面直接复制 ssh 命令和密码。\n",
                "\n",
                "![控制台](ssh_copy.png)\n",
                "\n",
                "第一次执行命令，会询问是否信任主机，输入 yes 即可。\n",
                "\n",
                "![ssh](ssh_login.png)\n",
                "\n",
                "出现下面界面，说明登录成功。\n",
                "\n",
                "![ssh](./login_success.png)\n"
            ]
        },
        {
            "cell_type": "markdown",
            "metadata": {},
            "source": [
                "### 第六步：启动 ChatGLM2 模型\n",
                "\n",
                "用下面命令进入工作目录，启动 ChatGLM2 模型\n",
                "\n",
                "```\n",
                "cd ~/fine-tuning-lab/chatglm2\n",
                "sh web_demo_vanilla.sh\n",
                "```\n",
                "\n",
                "出现下面截图表示成功了！\n",
                "\n",
                "![创建容器](./demo_run.png)\n"
            ]
        },
        {
            "cell_type": "markdown",
            "metadata": {},
            "source": [
                "### 第七步：从浏览器访问\n",
                "\n",
                "在[容器实例](https://www.autodl.com/console/instance/list)点击「自定义服务」。\n",
                "\n",
                "![创建容器](./web_access1.png)\n",
                "\n",
                "然后点击「访问」。\n",
                "\n",
                "![创建容器](./web_access2.png)\n",
                "\n",
                "浏览器会跳转到新的页面。等待页面加载完成，就可以和自己运行的大模型对话了。\n",
                "\n",
                "如果出现 404 错误，请检查上一步大模型是否正确启动了。\n",
                "\n",
                "---\n",
                "\n",
                "可以尝试输入以下文案体验，和后面训练后的模型做对比。\n",
                "\n",
                "判决书:\n",
                "\n",
                "经审理查明:2004 年 1 月 6 日,安居物业与东至县昌盛房地产开发有限责任公司签订前期物业管理服务合同,合同约定由安居物业对东至县昌盛房地产开发有限责任公司开发的食品小区提供物业服务,服务期限为该小区业主大会成立时止,该合同对委托管理事项、双方的权利义务、物业管理服务要求标准、物业管理服务费用、违约责任等进行了具体的约定 2005 年 8 月 28 日,汪 x3 入住该小区 8 栋一单元 102 室,并与安居物业签订了房屋入住协议,约定物业管理费为 252 元/年,并明确若汪 x3 无故不交规定应交费用的,安居物业可要求其限期缴纳并收取应缴费用 3%的滞纳金汪 x3 自 2008 年 8 月 28 日以来未交纳物业服务费,2013 年 12 月,安居物业向汪 x3 下达催交物业服务费通知书现安居物业以被告自 2008 年 8 月 28 日起至 2015 年 4 月 27 日止的物业服务费 1680 元及违约金 50.4 元未交为由诉至本院,被告则以原告不作为为由拒不缴纳,为此成讼另查明,本案所涉食品小区目前未选举业主委员会以上事实有当事人陈述、前期物业管理服务合同、房屋入住协议等证据在卷佐证,足以认定\n",
                "\n",
                "问题 1: 安居物业给哪个小区做物业？\n",
                "\n",
                "问题 2: 被告是否如约支付物业费了？\n",
                "\n",
                "![创建容器](./before_training.png)\n"
            ]
        },
        {
            "cell_type": "markdown",
            "metadata": {},
            "source": [
                "## 开始训练\n",
                "\n",
                "基于我们在 `~/fine-tuning-lab/data` 目录下提供的数据，用 p-tuning 2 方法进行微调训练。\n",
                "\n",
                "执行下面的命令，开始训练。预计需要 3 个小时左右。这期间要保持网络连接，否则可能会导致训练失败。\n",
                "\n",
                "```\n",
                "sh train_pt2.sh\n",
                "```\n",
                "\n",
                "只要没有出错信息，没有回到命令输入状态，有滚动输出的内容，有数字、进度条在变化，就说明训练在正常进行。请耐心等待。\n",
                "\n",
                "当出现下面信息时，说明训练完成了！\n",
                "\n",
                "![训练完成](./train_success.png)\n",
                "\n",
                "训练生成的文件在 `~/fine-tuning-lab/chatglm2/output/chatgpm2-6b-pt` 目录下。`checkpoint-nnn` 是训练过程中的中间结果，`nnn` 数字最大的那个是最终结果。\n"
            ]
        },
        {
            "cell_type": "markdown",
            "metadata": {},
            "source": [
                "## 测试训练后的模型\n",
                "\n",
                "执行下面命令\n",
                "\n",
                "```\n",
                "cd ~/fine-tuning-lab/chatglm2\n",
                "sh web_demo_pt2.sh\n",
                "```\n",
                "\n",
                "然后重复前面**第七步**，从浏览器访问你亲手训练的大模型，与之对话，测试各种问题的效果。\n",
                "\n",
                "![训练完成](./after_training.png)\n",
                "\n",
                "<div class=\"alert alert-warning\">\n",
                "<b>注意：</b>完成实验后不要忘记<a href=\"https://www.autodl.com/console/instance/list\" target=\"_blank\">关机</a>，以免继续产生费用。\n",
                "</div>\n"
            ]
        },
        {
            "cell_type": "markdown",
            "metadata": {},
            "source": [
                "## FAQ\n",
                "\n",
                "### 如果自己调整了参数\n",
                "\n",
                "参数调整后，输出的路径可能会改变。可以去 **~/fine-tuning-lab/chatglm2** 目录里面的 **output/chatglm2-6b-pt/** 目录下查看，里面是训练后的模型。\n",
                "\n",
                "然后修改 **web_demo_pt2.sh** 里面的 **CHECKPOINT_DIR**，指向你想加载的训练后模型。\n",
                "\n",
                "`web_demo_pt2.sh` 的内容如下：\n",
                "\n",
                "```bash\n",
                "PRE_SEQ_LEN=128\n",
                "\n",
                "MODEL_PATH=\"/root/chatglm2-6b\"\n",
                "CHECKPOINT_DIR=\"output/chatglm2-6b-pt/checkpoint-600/\" # 指向你想加载的训练后模型\n",
                "\n",
                "CUDA_VISIBLE_DEVICES=0 python3 web_demo.py \\\n",
                "    --model_name_or_path $MODEL_PATH \\\n",
                "    --ptuning_checkpoint $CHECKPOINT_DIR \\\n",
                "    --pre_seq_len $PRE_SEQ_LEN\n",
                "```\n",
                "\n",
                "### 如果需要访问科学的彼岸\n",
                "\n",
                "AutoDL 的服务器是在国内，如果需要从它访问国外的网站，可以执行下面的命令：\n",
                "\n",
                "```bash\n",
                "source /etc/network_turbo\n",
                "```\n"
            ]
        }
    ],
    "metadata": {
        "kernelspec": {
            "display_name": "Python 3 (ipykernel)",
            "language": "python",
            "name": "python3"
        },
        "language_info": {
            "codemirror_mode": {
                "name": "ipython",
                "version": 3
            },
            "file_extension": ".py",
            "mimetype": "text/x-python",
            "name": "python",
            "nbconvert_exporter": "python",
            "pygments_lexer": "ipython3",
            "version": "3.11.4"
        }
    },
    "nbformat": 4,
    "nbformat_minor": 4
}
