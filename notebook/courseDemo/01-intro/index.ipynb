{
 "cells": [
  {
   "cell_type": "markdown",
   "metadata": {},
   "source": [
    "## 💡这节课会带给你\n",
    "\n",
    "1. 通俗了解大模型的工作原理，秒赢 99% 其他人的认知\n",
    "2. 了解指令工程的强大，不只是「说人话」那么简单\n",
    "3. 浅尝 OpenAI API 的调用\n",
    "\n",
    "开始上课！"
   ]
  },
  {
   "cell_type": "markdown",
   "metadata": {},
   "source": [
    "## 一、解读本课大纲\n",
    "\n",
    "1. 课程大纲的设计初心\n",
    "2. 每部分能给你带来什么\n",
    "3. 做自己的选择，定自己的目标"
   ]
  },
  {
   "cell_type": "markdown",
   "metadata": {},
   "source": [
    "### 1.1、我们的初心\n",
    "\n",
    "我们相信，**懂 AI、懂编程、懂业务**的超级个体，会是 AGI 时代最重要的人。所以我们提出了「AI 全栈工程师」这个概念，让它显得不那么浮夸。\n",
    "\n",
    "这门课的目标，就是培养「AI 全栈」。\n",
    "\n",
    "当然，「全栈」涉及的知识面非常广，我们这区区一门课不可能全部涉及。我们能做到的是，在各个方向上都为大家打开一扇门，带大家入门。想走得更深更远，要靠大家自己，和我们的社群。\n",
    "\n",
    "但是，「入门」并不代表简单、肤浅。我们的课程会在三个层次发力：\n",
    "\n",
    "1. 原理\n",
    "2. 实践\n",
    "3. 认知\n",
    "\n",
    "**不懂原理**就不会举一反三，走不了太远。\n",
    "\n",
    "**不懂实践**就只能纸上谈兵，做事不落地。\n",
    "\n",
    "**认知不高**就无法做对决策，天花板太低。\n"
   ]
  },
  {
   "cell_type": "markdown",
   "metadata": {},
   "source": [
    "### 1.2、大纲解读\n",
    "\n",
    "| 模块                       | 目的                                             | 原理                           | 实践                                    | 认知                                   |\n",
    "| :------------------------- | :----------------------------------------------- | :----------------------------- | :-------------------------------------- | :------------------------------------- |\n",
    "| AI 大模型基础介绍          | 对大模型有直观的、基础的了解，以展开后续课程学习 | 大模型最基础的原理             | 搞定环境搭建和工具的使用                | 大模型并不神奇，也不神秘               |\n",
    "| Prompt Engineering         | 操纵大模型的基础方法                             | 让 prompt 更大概率生效的原理   | 使用 prompt 和调用 OpenAI API           | 程序思维从确定性到模糊性的变化         |\n",
    "| Function Calling & Plugins | Prompt 和编程结合的当前最高级手段                | Fine-tuning 比 prompt 更稳定   | 使用 Function Calling 解决问题          | 人机接口和机器接口的演化方向           |\n",
    "| AI 编程                    | 学会用 AI 辅助编程，助力接下来的学习             | AI 编程也是 prompt engineering | 使用 AI 编程解决问题                    | 从 AI 编程看提示工程和 AI 能力的天花板 |\n",
    "| LangChain                  | 用 LangChain 开发大模型应用                      | 什么是 embeddings              | 使用 LangChain 开发应用                 | 各种大模型应用的技术套路               |\n",
    "| Semantic Kernel            | LangChain 之外的另一个选择                       | -                              | 使用 Semantic Kernel 开发应用           | Prompt 和代码分离的思想                |\n",
    "| Fine-tuning                | 学会大模型应用技术的天花板                       | 机器学习基础                   | 训练出自己的独特大模型                  | 大模型、GPU 选型                       |\n",
    "| AI 产品设计                | 独立完成 AI 产品设计，成为 AI 全栈               | 商业、美学、用户体验的基本原理 | 设计商业模式，绘制原型图，快速做出 demo | 什么是好的产品。技术含量高不代表产品好 |\n",
    "| 业务沟通锦囊               | 没有产品经理帮忙，也能直面业务同事               | 与人沟通的基本原理             | 高效收集需求和反馈                      | 做得好，多数时候确实不如说得妙         |\n",
    "| AI 绘画                    | AI 绘画，陶冶情操                                | 文生图的原理                   | 使用 prompt 绘画                        | -                                      |\n",
    "\n",
    "<img src=\"structure.png\" width=600px>"
   ]
  },
  {
   "cell_type": "markdown",
   "metadata": {},
   "source": [
    "### 1.3、定自己的目标\n",
    "\n",
    "在全栈的知识面上，一个人短期把三层全占满是不太可能的。\n",
    "\n",
    "每个人要根据自己的特点、目标和机遇，选择自己的方向。"
   ]
  },
  {
   "cell_type": "markdown",
   "metadata": {},
   "source": [
    "### 1.4、FAQ\n",
    "\n",
    "### 用好 AI 需要很多数学知识吗？\n",
    "\n",
    "* 以前真需要，以后可能不那么需要了\n",
    "\n",
    "### 有的知识太深，我理解不了怎么办\n",
    "\n",
    "* 「用到再讲、学以致用」是我们的教学理念。很多知识，用着用着就理解了\n",
    "* 少部分基础数学知识主要在数据和模型训练部分，可以根据自身情况选择性理解。不理解，也不大影响使用\n",
    "\n",
    "### 感觉讲的太浅了，没学到知识怎么办\n",
    "\n",
    "* 我们尽量在每节课里都涉及一少部分有深度的知识\n",
    "* 如果感觉不解渴，欢迎在互动环节积极提问，我们现场解答 \n",
    "\n",
    "### 课听懂了，实际工作中还是不会用怎么办\n",
    "\n",
    "* NLP的实际问题通常不是端到端由一个算法解决的，我们把拆解问题的思路融入课程中，**用心体会**\n",
    "* 既然花钱来上课了，**问我！**\n",
    "\n",
    "<div class=\"alert alert-warning\">\n",
    "<b>建议：</b>\n",
    "<ul>\n",
    "<li>本课毕竟全球首创，且 AI 领域日新周异高速迭代，必有大量不足之处</li>\n",
    "<li>我们会不断改进，欢迎<b>随时</b>提出宝贵意见。</li>\n",
    "</ul>\n",
    "</div>"
   ]
  },
  {
   "cell_type": "markdown",
   "metadata": {
    "id": "1nOf4rvQ13si"
   },
   "source": [
    "## 二、什么是 AI？\n",
    "\n",
    "<img src=\"./ai-timeline.png\" style=\"margin-left: 0px\" width=\"800px\">\n",
    "\n",
    "> 课程总监孙志岗老师曾和「深蓝」的创造者许峰雄博士 1v1 交流数小时。许说：「AI is bullshit。深蓝没用任何 AI 算法，就是硬件穷举棋步。」\n",
    "\n",
    "<div class=\"alert alert-warning\">\n",
    "<b>思考：</b>你觉得哪些应用算是 AI？\n",
    "</div>"
   ]
  },
  {
   "cell_type": "markdown",
   "metadata": {
    "id": "1nOf4rvQ13si"
   },
   "source": [
    "## 三、ChatGPT 能干什么？\n",
    "\n",
    "* 写文章\n",
    "* 写邮件\n",
    "* 出面试题\n",
    "* 写代码\n",
    "* 回答问题\n",
    "* 陪聊天\n",
    "* ... ...\n",
    "\n",
    "我们来试试：[https://chat.openai.com/](https://chat.openai.com/)\n",
    "\n",
    "<div class=\"alert alert-warning\">\n",
    "<b>建议：</b>\n",
    "<ul>\n",
    "<li>一定要有一个访问国外的「通道」，否则无法访问、实操本课大量资源。通道举例：<a href=\"https://justmysocks5.net/members/aff.php?aff=1579\">Just My Socks</a></li>\n",
    "<li>尽量找国外朋友帮忙认证 ChatGPT 手机号（一个手机号可以认证多次），不得已再从贩子手里买号</li>\n",
    "<li>用 <a href=\"https://bing.com/new\">Bing Chat</a> 也可以，邮箱注册就能用，且免费使用的模型就是宇宙最强的 GPT-4</li>\n",
    "</ul>\n",
    "</div>"
   ]
  },
  {
   "cell_type": "markdown",
   "metadata": {
    "id": "1nOf4rvQ13si"
   },
   "source": [
    "### 3.1、既然是通用 AI，我怎么用它解决业务问题？\n",
    "\n",
    "### 案例：从文字中识别快递地址、收件人、电话\n",
    "\n",
    "<img src=\"./gpt-ner.png\" style=\"margin-left: 0px\">\n",
    "\n",
    "代码都能写，写 JSON 当然不在话下！\n",
    "\n",
    "### 更多举例\n",
    "\n",
    "* **舆情分析：**从公司产品的评论中，分析哪些功能/元素是用户讨论最多的，评价是正向还是负向\n",
    "* **坐席质检：**检查客服/销售人员与用户的对话记录，判断是否有争吵、辱骂、不当言论，话术是否符合标准\n",
    "* **故障解释：**根据系统报错信息，给出方便非技术人员阅读的故障说明\n",
    "* **零代码开发/运维：**自动规划任务，生成指令，自动执行\n",
    "* **生成业务逻辑：**自定义一套业务描述语言（DSL），直接让ChatGPT写业务逻辑代码\n",
    "\n",
    "<div class=\"alert alert-warning\">\n",
    "<b>思考：</b>你的业务中，有哪些问题可以用 AI 解决？\n",
    "</div>"
   ]
  },
  {
   "cell_type": "markdown",
   "metadata": {
    "id": "1nOf4rvQ13si"
   },
   "source": [
    "### 3.2、从 AI 的视角，怎么定义我遇到的业务问题\n",
    "\n",
    "首先，我们从三个角度来看待一个业务问题：\n",
    "\n",
    "1. **输人是什么：**文本、图像、语音信号...\n",
    "1. **输出是什么：**标签、数值、大段文字（包括代码、指令等）...\n",
    "1. 怎么**量化衡量**输出的对错/好坏？\n",
    "\n",
    "\n",
    "### 业务问题分类\n",
    "\n",
    "绝大多数业务问题，都可以归入如下至少一类。\n",
    "\n",
    "#### **分类问题**\n",
    "\n",
    "笼统的说，输出是标签。输出的标签是个有限集。输出的标签是预先定义好的有限集。\n",
    "\n",
    "例如：分析一段评论是正向还是负向，是典型的分类问题。输出是两个标签之一：“正向”或“负向”。\n",
    "\n",
    "更复杂的分类，比如，输入一篇新闻，输出是“政治”、“经济”、“体育”、“娱乐”、“科技”之一（或多个标签）。\n",
    "\n",
    "#### **聚类问题**\n",
    "\n",
    "没法提前规定有多少种标签，只能把同一类事物聚合在一起，到底能聚出多少类，是数据本身决定的。\n",
    "\n",
    "例如：自动收集客户经常问到的问题。（我们无法预知客户有多少问题，只能把同一个意思的问题聚合在一起）\n",
    "\n",
    "#### **回归问题**\n",
    "\n",
    "输出是一个数值，更重要的是，评价输出好坏的标准是误差大小，而不是二元的对错。\n",
    "\n",
    "举例：跟据专车司机每天工作的时段、时长、跑的公里数，预估他一天的净利润\n",
    "\n",
    "#### **决策问题**\n",
    "\n",
    "输出是连续的一系列动作，每一步动作都有代价或收益，每一步的动作本身没有对错，而是要最大化最终的收益\n",
    "\n",
    "举例：打游戏、下棋、无人驾驶、对话、量化投资\n",
    "\n",
    "#### **概率密度估计**\n",
    "超纲了，本门课不讲。提一下就是为了严谨。\n",
    "\n",
    "### 复杂问题的两个视角\n",
    "\n",
    "* 信息抽取，实体识别，内容生成本质上都是分类问题\n",
    "* 在 ChatGPT 时代，上述很多问题都可以从**文本生成**的角度解决\n",
    "\n",
    "<div class=\"alert alert-success\">\n",
    "<b>划重点：</b>\n",
    "<ol>\n",
    "<li>把 ChatGPT 看做是一个函数，给输入，<b>生成</b>输出</li>\n",
    "<li>任何业务问题，都可以用语言描述，成为 ChatGPT 的输入，就能<b>生成</b>业务问题的结果</li>\n",
    "<li>实际生成中，算法工程师通常需要根据业务know-how将上述基本问题串起来。<b>理解问题本质，对拆解任务有很大帮助！</b></li>\n",
    "</ol>\n",
    "</div>"
   ]
  },
  {
   "cell_type": "markdown",
   "metadata": {},
   "source": [
    "## 四、以上问题，ChatGPT能解决哪些，不能解决哪些？\n",
    "\n",
    "试一下就知道了……\n",
    "\n",
    "### 4.1、分类问题\n",
    "\n",
    "<img src=\"./gpt-classification.png\" style=\"margin-left: 0px\" width=600px>\n",
    "\n",
    "✅成功\n",
    "\n",
    "### 4.2、聚类问题\n",
    "\n",
    "<img src=\"./gpt-clustering.png\" style=\"margin-left: 0px\" width=600px>\n",
    "\n",
    "✅成功\n",
    "\n",
    "### 4.3、回归问题\n",
    "\n",
    "<img src=\"./gpt-regression.png\" style=\"margin-left: 0px\" width=600px>\n",
    "\n",
    "❌失败\n",
    "\n",
    "### 4.4、决策问题\n",
    "\n",
    "<img src=\"./gpt-decision.png\" style=\"margin-left: 0px\" width=600px>\n",
    "\n",
    "✅成功 or ❌失败？\n",
    "\n",
    "### 4.5、但它很擅长任务规划\n",
    "\n",
    "<img src=\"./gpt-plan.png\" style=\"margin-left: 0px\" width=600px>"
   ]
  },
  {
   "cell_type": "markdown",
   "metadata": {},
   "source": [
    "### 4.6、遇到 ChatGPT 解决不了的问题怎么办？\n",
    "* 学好后面自己训练模型那几节课（有些深度）\n",
    "* 真学会了，身价倍增，**加油！**"
   ]
  },
  {
   "cell_type": "markdown",
   "metadata": {
    "id": "1nOf4rvQ13si"
   },
   "source": [
    "## 五、它是怎么生成结果的？\n",
    "\n",
    "其实，它只是根据上文，猜下一个词（的概率）……\n",
    "\n",
    "<img src=\"./lm-autoregressive.gif\" style=\"margin-left: 0px\">"
   ]
  },
  {
   "cell_type": "markdown",
   "metadata": {
    "id": "1nOf4rvQ13si"
   },
   "source": [
    "OpenAI 的接口名就叫「completion」，也证明了其只会「生成」的本质。\n",
    "\n",
    "下面用程序演示「生成下一个字」。你可以自己修改 prompt 试试。还可以使用相同的 prompt 运行多次。"
   ]
  },
  {
   "cell_type": "code",
   "execution_count": 4,
   "metadata": {
    "scrolled": true
   },
   "outputs": [
    {
     "name": "stdout",
     "output_type": "stream",
     "text": [
      "开心\n",
      "\n",
      "I'm very happy today."
     ]
    }
   ],
   "source": [
    "import openai\n",
    "import os\n",
    "import time\n",
    "\n",
    "from dotenv import load_dotenv, find_dotenv\n",
    "_ = load_dotenv(find_dotenv())\n",
    "\n",
    "openai.api_key  = os.getenv('OPENAI_API_KEY')\n",
    "\n",
    "prompt='今天我很'\n",
    "response = openai.Completion.create(\n",
    "  model=\"text-davinci-003\",\n",
    "  prompt=prompt,\n",
    "  max_tokens=40,\n",
    "  temperature=0,\n",
    "  stream=True\n",
    ")\n",
    "\n",
    "#print(response.choices[0].text)\n",
    "\n",
    "for chunk in response:\n",
    "    print(chunk.choices[0].text, end='')\n",
    "    time.sleep(0.2)"
   ]
  },
  {
   "cell_type": "markdown",
   "metadata": {},
   "source": [
    "<div class=\"alert alert-success\">\n",
    "<b>划重点：</b>\n",
    "我们用不严密但通俗的语言描述 ChatGPT 的工作原理：\n",
    "<ol>\n",
    "<li>GPT「大模型」阅读了人类曾说过的所有的话。这就是「学习」</li>\n",
    "<li>把一串词后面跟着的不同词的<b>概率</b>记下来。记下的就是「参数」，也叫「权重」</li>\n",
    "<li>当我们给它若干词，GPT 就能算出概率最高的下一个词是什么。这就是「生成」</li>\n",
    "<li>用生成的词，再加上上文，就能继续生成下一个词。以此类推，生成更多文字</li>\n",
    "</ol>\n",
    "</div>\n",
    "\n",
    "<div class=\"alert alert-warning\">\n",
    "<b>思考：</b>你用 ChatGPT 做过的事，是不是都能用这个原理解释？\n",
    "</div>"
   ]
  },
  {
   "cell_type": "markdown",
   "metadata": {
    "id": "1nOf4rvQ13si"
   },
   "source": [
    "### 5.1、大语言模型（LLM）：GPT，Transformer\n",
    "\n",
    "<img src=\"./gpt-transformer.png\" style=\"margin-left:0px\" width=600px>\n"
   ]
  },
  {
   "cell_type": "markdown",
   "metadata": {
    "id": "1nOf4rvQ13si"
   },
   "source": [
    "## 六、OpenAI API初探\n",
    "\n",
    "### 6.1、安装Python库\n",
    "\n",
    "```bash\n",
    "pip install --upgrade openai\n",
    "```\n",
    "\n",
    "### 6.2、查看可调用的模型"
   ]
  },
  {
   "cell_type": "code",
   "execution_count": 5,
   "metadata": {},
   "outputs": [
    {
     "name": "stdout",
     "output_type": "stream",
     "text": [
      "davinci\n",
      "gpt-4\n",
      "gpt-3.5-turbo-16k-0613\n",
      "text-davinci-001\n",
      "text-search-curie-query-001\n",
      "gpt-3.5-turbo\n",
      "babbage\n",
      "text-babbage-001\n",
      "gpt-4-0613\n",
      "gpt-3.5-turbo-16k\n",
      "curie-instruct-beta\n",
      "davinci-similarity\n",
      "code-davinci-edit-001\n",
      "text-similarity-curie-001\n",
      "ada-code-search-text\n",
      "gpt-3.5-turbo-0613\n",
      "text-search-ada-query-001\n",
      "babbage-search-query\n",
      "ada-similarity\n",
      "text-curie-001\n",
      "text-search-ada-doc-001\n",
      "text-search-babbage-query-001\n",
      "code-search-ada-code-001\n",
      "curie-search-document\n",
      "davinci-002\n",
      "text-search-davinci-query-001\n",
      "text-search-curie-doc-001\n",
      "babbage-search-document\n",
      "babbage-002\n",
      "babbage-code-search-text\n",
      "text-embedding-ada-002\n",
      "davinci-instruct-beta\n",
      "davinci-search-query\n",
      "text-similarity-babbage-001\n",
      "text-davinci-002\n",
      "code-search-babbage-text-001\n",
      "text-davinci-003\n",
      "text-search-davinci-doc-001\n",
      "code-search-ada-text-001\n",
      "gpt-4-0314\n",
      "ada-search-query\n",
      "text-similarity-ada-001\n",
      "ada-code-search-code\n",
      "whisper-1\n",
      "text-davinci-edit-001\n",
      "davinci-search-document\n",
      "curie-search-query\n",
      "babbage-similarity\n",
      "ada\n",
      "ada-search-document\n",
      "text-ada-001\n",
      "text-similarity-davinci-001\n",
      "curie-similarity\n",
      "babbage-code-search-code\n",
      "code-search-babbage-code-001\n",
      "text-search-babbage-doc-001\n",
      "gpt-3.5-turbo-0301\n",
      "curie\n",
      "davinci:ft-personal:100qa-2023-03-06-07-35-38\n",
      "ft:gpt-3.5-turbo-0613:agi-class::7rFIG3Mf\n"
     ]
    }
   ],
   "source": [
    "import openai\n",
    "import os\n",
    "\n",
    "# 加载 .env 文件\n",
    "from dotenv import load_dotenv, find_dotenv\n",
    "_ = load_dotenv(find_dotenv())\n",
    "\n",
    "# 从环境变量中获得你的 OpenAI Key\n",
    "openai.api_key  = os.getenv('OPENAI_API_KEY')\n",
    "\n",
    "# 模型列表\n",
    "models = openai.Model.list()\n",
    "\n",
    "for model in models.data:\n",
    "    print(model.id)"
   ]
  },
  {
   "cell_type": "markdown",
   "metadata": {},
   "source": [
    "### 6.3、发一条消息"
   ]
  },
  {
   "cell_type": "code",
   "execution_count": 7,
   "metadata": {},
   "outputs": [
    {
     "name": "stdout",
     "output_type": "stream",
     "text": [
      "我是一个AI助手，专门为学生和教师提供帮助和支持。我是AGIClass的助教，这门课每周二和周四上课。如果你有关于这门课的问题，我会很乐意帮助你。\n"
     ]
    }
   ],
   "source": [
    "# 消息格式\n",
    "messages=[\n",
    "    { \n",
    "        \"role\": \"system\", \n",
    "        \"content\": \"你是AI助手小瓜.你是AGIClass的助教。这门课每周二、四上课。\"\n",
    "    },\n",
    "    { \n",
    "        \"role\": \"user\", \n",
    "        \"content\": \"你是干什么的?什么时间上课\"\n",
    "    },\n",
    "    \n",
    "]\n",
    "\n",
    "# 调用ChatGPT-3.5\n",
    "chat_completion = openai.ChatCompletion.create(model=\"gpt-3.5-turbo\", messages=messages)\n",
    "\n",
    "# 输出回复\n",
    "print(chat_completion.choices[0].message.content)"
   ]
  },
  {
   "cell_type": "markdown",
   "metadata": {},
   "source": [
    "## 彩蛋\n",
    "\n",
    "我们开发的大模型提效利器：[ChatALL](http://chatall.ai/)。某前端工程师用后表示：「1 小时的调试工作缩短到 5 分钟」。"
   ]
  },
  {
   "cell_type": "markdown",
   "metadata": {},
   "source": [
    "## 作业\n",
    "\n",
    "为保证后续课程能正常跟进，请完成如下作业：\n",
    "\n",
    "1. 能正常使用 ChatGPT 或 Bing Chat 至少之一\n",
    "2. 下载安装 [ChatALL](http://chatall.ai/)，通过它体验 ChatGPT 或/和 Bing Chat\n",
    "3. 在 GitHub 给 ChatALL 加个星星（此条自愿完成😁）"
   ]
  }
 ],
 "metadata": {
  "colab": {
   "provenance": [],
   "toc_visible": true
  },
  "kernelspec": {
   "display_name": "Python 3 (ipykernel)",
   "language": "python",
   "name": "python3"
  },
  "language_info": {
   "codemirror_mode": {
    "name": "ipython",
    "version": 3
   },
   "file_extension": ".py",
   "mimetype": "text/x-python",
   "name": "python",
   "nbconvert_exporter": "python",
   "pygments_lexer": "ipython3",
   "version": "3.11.4"
  }
 },
 "nbformat": 4,
 "nbformat_minor": 4
}
