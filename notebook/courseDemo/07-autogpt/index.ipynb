{
 "cells": [
  {
   "cell_type": "markdown",
   "metadata": {},
   "source": [
    "# 💡 这节课会带给你\n",
    "\n",
    "这节课直播演示如何从头写一个 AutoGPT。\n",
    "\n",
    "源代码从左边目录树中，右键点击 `autogpt.zip` 下载。如下图：\n",
    "\n",
    "<img src=\"download.png\" width=\"400\" />\n"
   ]
  },
  {
   "cell_type": "markdown",
   "metadata": {},
   "source": [
    "## 项目中会用到第三方的 key\n",
    "\n",
    "> 在下面的网址注册一下\n",
    "\n",
    "#### SERPAPI_API_KEY\n",
    "https://serpapi.com\n",
    "\n",
    "#### GPLACES_API_KEY\n",
    "https://weatherstack.com\n",
    "\n",
    "#### GPLACES_API_KEY\n",
    "https://console.cloud.google.com"
   ]
  }
 ],
 "metadata": {
  "kernelspec": {
   "display_name": "Python 3 (ipykernel)",
   "language": "python",
   "name": "python3"
  },
  "language_info": {
   "codemirror_mode": {
    "name": "ipython",
    "version": 3
   },
   "file_extension": ".py",
   "mimetype": "text/x-python",
   "name": "python",
   "nbconvert_exporter": "python",
   "pygments_lexer": "ipython3",
   "version": "3.11.4"
  }
 },
 "nbformat": 4,
 "nbformat_minor": 4
}
