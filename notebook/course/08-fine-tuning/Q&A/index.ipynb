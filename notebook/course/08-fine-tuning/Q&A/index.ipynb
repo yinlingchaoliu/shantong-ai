{
 "cells": [
  {
   "cell_type": "markdown",
   "id": "d8dfac1c-20e7-4c77-b44c-dc319d3b1ad8",
   "metadata": {},
   "source": [
    "## 1、GPU利用率\n",
    "\n",
    "### 1.1、常见的造成GPU利用率低的原因"
   ]
  },
  {
   "cell_type": "markdown",
   "id": "93239b42-50f4-4ffd-91b5-fb5bf24a9989",
   "metadata": {},
   "source": [
    "\n",
    "本质是**CPU的计算**或**I/O**的环节耗时长，导致GPU利用率上不去"
   ]
  },
  {
   "cell_type": "markdown",
   "id": "589e2f65-49ba-4c01-8988-f32675f952df",
   "metadata": {},
   "source": [
    "### 1.2、数据加载与处理的耗时\n",
    "\n",
    "Dataloader的几个相关参数"
   ]
  },
  {
   "cell_type": "raw",
   "id": "9178480e-a6b6-441d-976b-51dc273af922",
   "metadata": {},
   "source": [
    "DataLoader(dataset, batch_size=1, shuffle=False, sampler=None,\n",
    "           batch_sampler=None, num_workers=0, collate_fn=None,\n",
    "           pin_memory=False, drop_last=False, timeout=0,\n",
    "           worker_init_fn=None, *, prefetch_factor=2,\n",
    "           persistent_workers=False)"
   ]
  },
  {
   "cell_type": "markdown",
   "id": "ab9476a2-46b6-442e-b302-4e7a1bbf8166",
   "metadata": {},
   "source": [
    "- num_workers：线程数\n",
    "- prefetch_factor：每个worker提前加载样本数，设置不合理可能会让CPU处理时GPU空闲\n",
    "- pin_memory：直接将数据映射到 GPU 的相关内存块上，省掉一点数据传输时间\n",
    "\n",
    "另外，数据处理函数逻辑太复杂也影响资源利用率，建议减少for/while循环。"
   ]
  },
  {
   "cell_type": "markdown",
   "id": "d6d0857b-333b-4bc4-bcd2-f65b64303a39",
   "metadata": {
    "jp-MarkdownHeadingCollapsed": true
   },
   "source": [
    "### 1.3、减少I/O操作的耗时\n",
    "\n",
    "- 模型保存不宜太频繁(--save_steps参数)\n",
    "- 日志打印、指标上报、进度上报等不宜太频繁\n",
    "- 存储介质对时延影响也很明显\n",
    "    - 本地存储介质性能：SSD > ceph > cfs-1.5 > hdfs > mdfs\n",
    "    - 网络存储：数据与计算最好在同城；排查路由、网络带宽等其它因素。\n",
    "- 数据不宜分成太多小文件，会影响I/O性能（主要是图像处理场景）\n",
    "- 分布式训练时要使用 DistributedDataParallel （Pytorch）\n",
    "- 多机训练要启用 GDRDMA （英伟达的远程直接显存访问机制）"
   ]
  },
  {
   "cell_type": "markdown",
   "id": "ad1f0e2f-4e4f-4888-9844-9aa7562c94df",
   "metadata": {},
   "source": [
    "### 1.4 其它CPU计算耗时\n",
    "\n",
    "主要是loss计算和metric计算的复杂度（常见的问题不涉及此处，主要是自定义loss或metric需要注意这个问题）"
   ]
  },
  {
   "cell_type": "markdown",
   "id": "0f7fcfa5-97ad-44ca-ba30-5bbc3edd8938",
   "metadata": {},
   "source": [
    "## 2、Batch的拼接方式（Padding在哪边）\n",
    "\n",
    "<img src=\"training-batch.png\" width=600px/>\n",
    "\n",
    "<img src=\"inference-batch.png\" width=600px/>"
   ]
  },
  {
   "cell_type": "markdown",
   "id": "84dcbc73-e35c-4fe3-a7e4-e6c9489f44a5",
   "metadata": {},
   "source": [
    "## 3、Tokenizer怎么分词，怎么处理未登录词\n",
    "\n",
    "- 参考SentencePiece：https://github.com/google/sentencepiece\n",
    "    - 双字节对儿（BPE）编码：高频二元组合并，低频的分开，迭代至不能在合为止，ChatGPT用的就是这个方法\n",
    "    - 基于无监督学习的Unigram模型切分（在训练集上以极大似然概率训练一个分词模型）"
   ]
  },
  {
   "cell_type": "markdown",
   "id": "ad8a1ee4-2da9-4cda-867f-ac10f58d4cb0",
   "metadata": {},
   "source": [
    "## 4、数据准备与处理\n",
    "\n",
    "### 4.1、数据采集\n",
    "\n",
    "- 自然来源（如业务日志）：真实数据\n",
    "- Web抓取：近似数据\n",
    "- 人造\n",
    "\n",
    "### 4.2、数据标注\n",
    "\n",
    "- 专业标注公司\n",
    "   - 定标准，定验收指标\n",
    "   - 预标注\n",
    "   - 反馈与优化\n",
    "   - 正式标注\n",
    "   - 抽样检查：合格->验收；不合格->返工\n",
    "- 众包\n",
    "   - 定标准，定检验指标\n",
    "   - 抽样每个工作者的质量\n",
    "   - 维系高质量标注者社区\n",
    "- 主动学习：通过模型选择重要样本，由专家标注，再训练模型\n",
    "- 设计产品形态，在用户自然交互中产生标注数据（例如点赞、收藏）\n",
    "\n",
    "### 4.3、数据清洗\n",
    "\n",
    "- 去除不相关数据\n",
    "- 去除冗余数据（例如重复的样本）\n",
    "- 去除误导性数据（业务相关）\n",
    "\n",
    "### 4.4、样本均衡性\n",
    "\n",
    "- 尽量保证每个标签（场景/子问题）都有足够多的训练样本\n",
    "- 每个标签对应的数据量尽量相当\n",
    "   - 或者在保证每个标签样本充值的前提下，数据分布尽量接近真实业务场景的数据分布\n",
    "- 数据不均衡时的策略\n",
    "   - 数据增强：为数据不够类别造数据：（1）人工造；（2）通过模板生成再人工标注；（3）由模型自动生成（再人工标注/筛选）\n",
    "   - 数据少的类别数据绝对数量也充足时，Downsample一般比Upsample效果好\n",
    "   - 实在没办法的话，在训练loss里加权（一般不是最有效的办法）\n",
    "- 根据业务属性，保证其他关键要素的数据覆盖，例如：时间因素、地域因素、用户年龄段等\n",
    " \n",
    "### 4.5、数据集构建\n",
    "\n",
    "- 数据充分的情况下\n",
    "   - 切分训练集（训练模型）、验证集（验证超参）、测试集（检验最终模型+超参的效果）\n",
    "   - 以随机采样的方式保证三个集合的数据分布一致性\n",
    "   - 在以上三个集合里都尽量保证各个类别/场景的数据覆盖\n",
    "- 数据实在太少\n",
    "   - 交叉验证"
   ]
  },
  {
   "cell_type": "code",
   "execution_count": null,
   "id": "f9d02f85-334d-409d-9875-3ada800ac680",
   "metadata": {},
   "outputs": [],
   "source": []
  }
 ],
 "metadata": {
  "kernelspec": {
   "display_name": "Python 3 (ipykernel)",
   "language": "python",
   "name": "python3"
  },
  "language_info": {
   "codemirror_mode": {
    "name": "ipython",
    "version": 3
   },
   "file_extension": ".py",
   "mimetype": "text/x-python",
   "name": "python",
   "nbconvert_exporter": "python",
   "pygments_lexer": "ipython3",
   "version": "3.11.4"
  }
 },
 "nbformat": 4,
 "nbformat_minor": 5
}
