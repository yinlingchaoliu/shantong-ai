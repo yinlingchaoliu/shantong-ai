{
 "cells": [
  {
   "cell_type": "markdown",
   "metadata": {
    "jp-MarkdownHeadingCollapsed": true
   },
   "source": [
    "## 💡 这节课会带给你\n",
    "\n",
    "1. 如何做好独立开发，拥有更自由的生活\n",
    "2. 但这是你想要的吗？\n",
    "\n",
    "开始上课！\n"
   ]
  },
  {
   "cell_type": "markdown",
   "metadata": {},
   "source": [
    "## 独立开发者\n"
   ]
  },
  {
   "cell_type": "markdown",
   "metadata": {},
   "source": [
    "- 英文 indie hacker，是指独立开发软件产品的人\n",
    "- 他们通常是一人团队，或者是一小群人\n",
    "- 他们的产品通常是小而美，但是有着足以让团队体面生活的商业价值\n"
   ]
  },
  {
   "cell_type": "markdown",
   "metadata": {},
   "source": [
    "## 成功的独立开发者们\n"
   ]
  },
  {
   "cell_type": "markdown",
   "metadata": {},
   "source": [
    "### 印度小哥\n",
    "\n",
    "独立开发 [SiteGPT](https://sitegpt.ai/) 和 [feather](https://feather.so/) 两个产品的印度小哥 8 月的收入情况。\n",
    "\n",
    "https://twitter.com/pbteja1998/status/1697542762214695070\n",
    "\n",
    "<img src=\"bhanu-tweet.png\" width=\"200\"/>\n",
    "\n",
    "历史收入情况：\n",
    "\n",
    "![SiteGPT](sitegpt.jpeg)\n",
    "\n",
    "![feather](feather.jpeg)\n"
   ]
  },
  {
   "cell_type": "markdown",
   "metadata": {},
   "source": [
    "### flomo - 浮墨笔记\n",
    "\n",
    "主页：https://flomoapp.com/\n",
    "\n",
    "![intro](flomo-intro.png)\n",
    "\n",
    "![about](flomo-about.png)\n",
    "\n",
    "<div class=\"alert alert-warning\">\n",
    "<b>思考：</b>为什么 flomo 从未公布过收入情况？\n",
    "</div>\n"
   ]
  },
  {
   "cell_type": "markdown",
   "metadata": {},
   "source": [
    "## 前所未有的程序员独立创业机会\n"
   ]
  },
  {
   "cell_type": "markdown",
   "metadata": {},
   "source": [
    "我们有 76% 的同学有独立创业意向\n",
    "\n",
    "1. 云计算提供了便捷的基础设施\n",
    "2. AI 直接能做的越来越多，编程效率也被提升，开发成本下降\n",
    "3. 大量渗透到毛细血管的场景，需要 AI 化\n",
    "   1. Prompt 调优\n",
    "   2. 界面定制\n",
    "   3. Semantic Kernel Plugins\n",
    "\n",
    "一种趋势：**只为 5000 人写一个软件，体验足够好，每月收 10 元钱。** 大厂不会抢这种市场。\n"
   ]
  },
  {
   "cell_type": "markdown",
   "metadata": {},
   "source": [
    "## 但是，先冷静下\n",
    "\n",
    "独立开发，香吗？\n",
    "\n",
    "|          | 独立开发         | 打工                         |\n",
    "| -------- | ---------------- | ---------------------------- |\n",
    "| 收入     | 不稳定           | 稳定                         |\n",
    "| 收入量级 | 正常             | 正常                         |\n",
    "| 时间     | 自由             | 受限                         |\n",
    "| 工作内容 | 自由             | 受限                         |\n",
    "| 成长     | 自由             | 受限                         |\n",
    "| 抗风险   | 弱               | 强                           |\n",
    "| 为谁负责 | 客户、自己和家人 | 老板、同事、客户、自己和家人 |\n",
    "\n",
    "_注：此表描述的是通常情况，非特例情况_\n",
    "\n",
    "最香的，是只要让个人利益和客户利益一致，就没有乱七八糟的纠结了。\n",
    "\n",
    "最大区别，其实是「自由」。所以：\n",
    "\n",
    "1. 自由的时间，需要自律\n",
    "2. 自由的工作内容，需要决策\n",
    "3. 自由的成长，需要自律和决策\n",
    "\n",
    "<div class=\"alert alert-warning\">\n",
    "<b>思考：</b>自律和决策，哪个更重要？\n",
    "</div>\n"
   ]
  },
  {
   "cell_type": "markdown",
   "metadata": {},
   "source": [
    "## 做好独立开发，最重要的是\n"
   ]
  },
  {
   "cell_type": "markdown",
   "metadata": {},
   "source": [
    "<div class=\"alert alert-success\">\n",
    "<b>划重点：</b> 宏观看，执行永远比思考更重要。建议思考占用的精力别超过 10%。\n",
    "</div>\n",
    "\n",
    "1. 靠谱的思考来源于执行的总结\n",
    "2. 别期待完美的思考，有点儿小念头就立即执行，在执行中再修正\n",
    "3. 埋头执行容易陷入惯性，所以需要时不时跳出来做思考\n",
    "\n",
    "独立开发是对执行力极大的考验，需要强大的自律。\n"
   ]
  },
  {
   "cell_type": "markdown",
   "metadata": {},
   "source": [
    "## 如何自律\n"
   ]
  },
  {
   "cell_type": "markdown",
   "metadata": {},
   "source": [
    "1. 定目标，并说出去。比如发到朋友圈\n",
    "2. 设惩罚，找人监督。比如做不到，就发红包\n",
    "3. 家里划定独立办公空间，甚至专门租用。比如王卓然的奢侈办公室\n",
    "\n",
    "但一定要给自己安排休息时间。工作日出游，真的很爽。\n",
    "\n",
    "此时，你是否决定做独立开发了？别急，再说说别的讨厌的事情。\n"
   ]
  },
  {
   "cell_type": "markdown",
   "metadata": {},
   "source": [
    "## 注册公司\n"
   ]
  },
  {
   "cell_type": "markdown",
   "metadata": {},
   "source": [
    "虽然没有公司，也可以做独立开发，但强烈建议注册，因为：\n",
    "\n",
    "1. 有些客户只能和公司合作\n",
    "2. 有些资质、知识产权只有公司才能申请\n",
    "3. 缴社保等方便\n",
    "\n",
    "### 到哪注册\n",
    "\n",
    "1. 驻地，办事方便\n",
    "2. 其它有利好扶持政策的地方\n",
    "\n",
    "### 注册要点\n",
    "\n",
    "1. 找靠谱代理机构，流程、代账、地址，几千元搞定\n",
    "2. 注册类型，从**小规模纳税人**起步（税率 3%）。经营规模大了，或者受资质限制了，再转**一般纳税人**（税率 6%）。\n"
   ]
  },
  {
   "cell_type": "markdown",
   "metadata": {},
   "source": [
    "## 日常事务性工作\n"
   ]
  },
  {
   "cell_type": "markdown",
   "metadata": {},
   "source": [
    "1. 合同谈判、起草、签署（用 ChatGPT 写合同，超爽）\n",
    "2. 申请软件著作权、商标、备案\n",
    "3. 财务相关\n",
    "\n",
    "虽然有专业机构代理，但也还是耗精力，挺烦的。\n"
   ]
  },
  {
   "cell_type": "markdown",
   "metadata": {},
   "source": [
    "## 管理兼职\n"
   ]
  },
  {
   "cell_type": "markdown",
   "metadata": {},
   "source": [
    "兼职最大的成本不是薪资，而是沟通成本。\n",
    "\n",
    "### 薪资\n",
    "\n",
    "1. 如果与结果正相关，就按效果付费，分担你的风险\n",
    "2. 如果与结果不正相关，就按件付费，尽量压低价格。千万别大方，因为风险都在你自己身上\n",
    "3. 如果工作量不好估计，就按月付费，虽然这样的管理成本比较高\n",
    "\n",
    "### 沟通\n",
    "\n",
    "1. 降低沟通成本的最简单方法：**提升沟通频率**。把问题尽早暴漏，避免返工\n",
    "2. 能面聊就面聊。如果不具备条件，至少第一次沟通要面聊/视频\n",
    "3. 尽量写好文档、画好图表，别只用语言描述需求\n",
    "4. 文档和图表都用共享型的。产出物也尽量实时共享\n",
    "\n",
    "后三条做的，是**提升沟通带宽**。\n"
   ]
  },
  {
   "cell_type": "markdown",
   "metadata": {},
   "source": [
    "## 难\n"
   ]
  },
  {
   "cell_type": "markdown",
   "metadata": {},
   "source": [
    "1. 起步阶段，很**难**有收入。时间可能长达半年、一年……\n",
    "2. 遇事**难**以求助，只能自己解决\n",
    "3. 一叶扁舟，遇到大风浪，很**难**抵挡\n"
   ]
  },
  {
   "cell_type": "markdown",
   "metadata": {},
   "source": [
    "## 如何决策要不要走这条路\n"
   ]
  },
  {
   "cell_type": "markdown",
   "metadata": {},
   "source": [
    "如果前面所述不是你愿意面对的，那么就别做独立开发了。否则：\n",
    "\n",
    "### 有稳定收入\n",
    "\n",
    "1. 别轻易放弃当前收入\n",
    "2. 工作之余做一段时间的副业，积累经验和成果，看看自己是否适合，有眉目了再考虑全职\n",
    "3. 多一手准备，肯定没错\n",
    "\n",
    "### 无稳定收入\n",
    "\n",
    "1. 在找工作和独立开发各放一半精力，因为\n",
    "   1. 现在找工作，挺难的\n",
    "   2. 找工作不可能占满所有时间\n",
    "   3. 独立开发的经验和成果可以帮助找工作，反之不成立\n",
    "   4. 如果独立开发做顺了，就不需要找工作了。但有了工作，也还需要独立开发来兜底\n",
    "   5. 找工作常有挫败感，可以用独立开发的阶段成功来滋养自己\n",
    "\n",
    "不管你做不做独立开发，拥有产品思维都是非常有用的。所以，后面课程，并不只能帮助到独立开发者。\n"
   ]
  },
  {
   "cell_type": "markdown",
   "metadata": {},
   "source": [
    "## 参考阅读\n",
    "\n",
    "- [flomo 的经营理念](https://help.flomoapp.com/about-us/about-us/company-concept.html)\n",
    "- [这家公司只有创始人一名员工，年营收千万！他是如何做到的？](https://mp.weixin.qq.com/s/pznEq8JHRMtaSlO_OvzjYQ)\n",
    "- [9 人小公司，细分领域 SaaS 工具从 0 到 1 做到 100 万美金 ARR 的过程](https://mp.weixin.qq.com/s/Xvj7Y7NyTILmyS287ymQOg)\n",
    "- [一个独立创造者的五年](https://mp.weixin.qq.com/s/x6PLSIMn_1qcKnXWPT-J-Q)\n",
    "- [中国的独立开发者都在开发些什么？](https://mp.weixin.qq.com/s/izJdOMP0LY1VeBmzpnXScQ)\n",
    "- [想做“独立开发者”，第一步应该怎么做？](https://mp.weixin.qq.com/s/5q6WYfr6G2zKru0LcvvPUw)\n",
    "- [#独立开发变现周刊](https://mp.weixin.qq.com/mp/appmsgalbum?__biz=MjM5OTM3NzAwNg==&action=getalbum&album_id=1857680644290478080&scene=173&from_msgid=2649285309&from_itemidx=1&count=3&nolastread=1#wechat_redirect)\n",
    "- [一年的独立开发者生活](https://www.maliquankai.com/2018/08/08/2018-08-08-oneyear-developer/)\n"
   ]
  }
 ],
 "metadata": {
  "kernelspec": {
   "display_name": "Python 3 (ipykernel)",
   "language": "python",
   "name": "python3"
  },
  "language_info": {
   "codemirror_mode": {
    "name": "ipython",
    "version": 3
   },
   "file_extension": ".py",
   "mimetype": "text/x-python",
   "name": "python",
   "nbconvert_exporter": "python",
   "pygments_lexer": "ipython3",
   "version": "3.11.4"
  }
 },
 "nbformat": 4,
 "nbformat_minor": 4
}
