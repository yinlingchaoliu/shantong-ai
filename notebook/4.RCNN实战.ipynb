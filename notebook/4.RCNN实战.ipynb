{
 "cells": [
  {
   "cell_type": "markdown",
   "id": "0cc38962-c323-4702-857f-9bd8826359d9",
   "metadata": {},
   "source": [
    "# 构建卷积神经网络"
   ]
  },
  {
   "cell_type": "code",
   "execution_count": 6,
   "id": "52b97c69-59a8-4aa3-82a5-f995802797c2",
   "metadata": {},
   "outputs": [],
   "source": [
    "import torch\n",
    "import torch.nn as nn\n",
    "import torch.optim as optim\n",
    "import torch.nn.functional as F\n",
    "from torchvision import datasets,transforms\n",
    "import matplotlib.pyplot as plt\n",
    "import numpy as np\n",
    "#%matplotlib inline "
   ]
  },
  {
   "cell_type": "markdown",
   "id": "4fb20144-521f-4996-b9d4-26f2bb3ec9af",
   "metadata": {},
   "source": [
    "# 首先读取数据 \n",
    "* 构建训练集合测试集\n",
    "* dataloader来迭代取数据\n"
   ]
  },
  {
   "cell_type": "code",
   "execution_count": 10,
   "id": "4a472365-52e2-4415-b0cc-5e7634dbd0b7",
   "metadata": {},
   "outputs": [],
   "source": [
    "#定义参数\n",
    "input_size = 28  # 图像尺寸 28 *28 * 1 三维数据\n",
    "num_classes = 10 # 标签种类数\n",
    "num_epochs = 3 # 训练次数\n",
    "batch_size = 64 # 大小批次\n",
    "\n",
    "# 训练集\n",
    "train_dataset = datasets.MNIST(root='./data',train=True, transform=transforms.ToTensor(),download=True)\n",
    "\n",
    "# 测试集\n",
    "test_dataset = datasets.MNIST(root='./data',train=False, transform=transforms.ToTensor())\n",
    "\n",
    "#构建batch数据\n",
    "train_loader = torch.utils.data.DataLoader(dataset=train_dataset,batch_size=batch_size,shuffle=True)\n",
    "\n",
    "test_loader = torch.utils.data.DataLoader(dataset=test_dataset,batch_size=batch_size,shuffle=True)\n"
   ]
  },
  {
   "cell_type": "markdown",
   "id": "3d41a456-b558-4b15-b4aa-42efaff31390",
   "metadata": {},
   "source": [
    " # 卷积网络模块构建\n",
    " * 一般卷积层， rule层， 池化层写成一个套餐\n",
    " * 卷积最后结果还是一个特征图，需要把图转换成向量，才能做分类或者现象任务(全连接层)"
   ]
  },
  {
   "cell_type": "code",
   "execution_count": null,
   "id": "76bb3a76-3e66-49a6-a987-c83019267ccb",
   "metadata": {},
   "outputs": [],
   "source": [
    "class CNN(nn.Module):\n",
    "    def __init__(self):\n",
    "        super(CNN,self).__init__()\n",
    "        self.conv1 = nn."
   ]
  }
 ],
 "metadata": {
  "kernelspec": {
   "display_name": "Python [conda env:base] *",
   "language": "python",
   "name": "conda-base-py"
  },
  "language_info": {
   "codemirror_mode": {
    "name": "ipython",
    "version": 3
   },
   "file_extension": ".py",
   "mimetype": "text/x-python",
   "name": "python",
   "nbconvert_exporter": "python",
   "pygments_lexer": "ipython3",
   "version": "3.12.7"
  }
 },
 "nbformat": 4,
 "nbformat_minor": 5
}
