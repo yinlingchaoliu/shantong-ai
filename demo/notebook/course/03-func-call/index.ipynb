{
 "cells": [
  {
   "cell_type": "markdown",
   "id": "b1bf0a05",
   "metadata": {},
   "source": [
    "## 💡 这节课会带给你\n",
    "\n",
    "1. 用自然语言连接系统的认知，面向未来思考系统间的集成问题\n",
    "2. 了解 OpenAI Plugins 的基本原理和市场表现，对行业格局产生一些感知\n",
    "3. 学会 OpenAI Function Calling 的基本用法，掌握这个大杀器\n",
    "\n",
    "开始上课！\n"
   ]
  },
  {
   "attachments": {},
   "cell_type": "markdown",
   "id": "619ed063",
   "metadata": {},
   "source": [
    "## 接口（Interface）\n"
   ]
  },
  {
   "attachments": {},
   "cell_type": "markdown",
   "id": "aae526d9",
   "metadata": {},
   "source": [
    "两种常见接口：\n",
    "\n",
    "1. 人机交互接口，User Interface，简称 UI\n",
    "2. 应用程序编程接口，Application Programming Interface，简称 API\n",
    "\n",
    "接口能「通」的关键，是两边都要遵守约定。\n",
    "\n",
    "- 人要按照 UI 的设计来操作。UI 的设计要符合人的习惯\n",
    "- 程序要按照 API 的设计来调用。API 的设计要符合程序惯例\n",
    "\n",
    "你是不是有很多调接口的痛苦经历？比如：\n",
    "\n",
    "- 文档坑\n",
    "- 大小写坑\n",
    "- 参数顺序坑\n",
    "- 参数类型坑\n",
    "- ……\n"
   ]
  },
  {
   "cell_type": "markdown",
   "id": "37fed0ef",
   "metadata": {},
   "source": [
    "## 接口的进化\n"
   ]
  },
  {
   "cell_type": "markdown",
   "id": "8a7d35a3",
   "metadata": {},
   "source": [
    "UI:\n",
    "\n",
    "1. 命令行，Command Line Interface，简称 CLI（DOS、Unix/Linux shell, Windows Power Shell）\n",
    "2. 图形界面，Graphical User Interface，简称 GUI（Windows、MacOS、iOS、Android）\n",
    "3. 语言界面，Conversational User Interface，简称 CUI，或 Natural-Language User Interface，简称 LUI ← **我们在这里**\n",
    "4. 脑机接口，Brain–computer Interface，简称 BCI\n",
    "\n",
    "<img src=\"./ui-evolution.png\" style=\"margin-left: 0px\">\n",
    "\n",
    "UI 进化的趋势是：越来越适应人的习惯，越来越自然\n",
    "\n",
    "API：\n",
    "\n",
    "1. 从本地到远程，从同步到异步，媒介发生很多变化，但本质一直没变：**程序员的约定**\n",
    "2. 自然语言接口，Natural-Language Interface，简称 NLI\n"
   ]
  },
  {
   "cell_type": "markdown",
   "id": "76f977ee",
   "metadata": {},
   "source": [
    "## 自然语言连接一切（Natural Language Interface）\n"
   ]
  },
  {
   "cell_type": "markdown",
   "id": "b0d5b3a5-a09b-4d84-bba8-2bd5be96447a",
   "metadata": {},
   "source": [
    "NLI 是我们在[《以 ChatGPT 为代表的「大模型」会是多大的技术革命？》](https://mp.weixin.qq.com/s/t0Ml7E-CvlKfdaUMBGKJBg)一文中提出的概念。\n",
    "\n",
    "> 用户操作习惯的迁移，会逼所有软件，都得提供「自然语言界面（Natural Language Interface，简称 NLI）」。这是我生造的词，指的是以自然语言为输入的接口。\n",
    ">\n",
    "> 不仅用户界面要 NLI，API 也要 NLI 化。这是因为用户发出的宏观指令，往往不会是一个独立软件能解决的，它需要很多软件、设备的配合。\n",
    ">\n",
    "> 一种实现思路是，入口 AI（比如 Siri、小爱同学，机器人管家）非常强大，能充分了解所有软件和设备的能力，且能准确地把用户任务拆解和分发下去。这对入口 AI 的要求非常高。\n",
    ">\n",
    "> 另一种实现思路是，入口 AI 收到自然语言指令，把指令通过 NLI 广播出去（也可以基于某些规则做有选择的广播，保护用户隐私），由各个软件自主决策接不接这个指令，接了要怎么做，该和谁配合。\n",
    ">\n",
    "> ……\n",
    ">\n",
    "> 当 NLI 成为事实标准，那么互联网上软件、服务的互通性会大幅提升，不再受各种协议、接口的限制。\n",
    "> 最自然的接口，就是自然语言接口：\n",
    "\n",
    "以前因为计算机处理不对自然语言，所以有了那么多编程语言，那么多接口，那么多协议，那么多界面风格。而且，它们每一次进化，都是为了「更自然」。现在，终极的自然，到来了。\n",
    "\n",
    "ChatGPT 让我们体验到 LUI 的美好。而 [Plugins](https://platform.openai.com/docs/plugins/introduction) 和 [Function Calling](https://platform.openai.com/docs/guides/gpt/function-calling)，让我们能直接进入 NLI 的过程。\n"
   ]
  },
  {
   "cell_type": "markdown",
   "id": "ca8b5aba-2d48-4c99-9035-d06f11b1aeb3",
   "metadata": {},
   "source": [
    "## Plugins 是什么\n"
   ]
  },
  {
   "cell_type": "markdown",
   "id": "21ad76d3-cd7b-4c61-bcf5-f7b59bfc3f40",
   "metadata": {},
   "source": [
    "学习 plugin 之前，先要了解 ChatGPT 及所有大模型都有两大缺陷：\n",
    "\n",
    "<div class=\"alert alert-success\">\n",
    "<b>划重点：</b>\n",
    "<ol>\n",
    "<li><b>没有最新信息</b>。大模型的训练周期很长，且更新一次耗资巨大，所以它的知识都是过去的。GPT-3.5 和 GPT-4 的知识截至 2021 年 9 月。</li>\n",
    "<li><b>没有「真逻辑」</b>。它表现出的逻辑、推理，是训练文本的统计规律，而不是真正的逻辑。</li>\n",
    "</ol>\n",
    "</div>\n",
    "\n",
    "比如把 100 以内所有加法算式都训练给大模型，它就能回答 100 以内的加法算式。但如果问它更大数字的加法算式，它就不一定答对了。因为它并不懂「加法」，只是记住了 100 以内的加法算式的统计规律。它是用字面意义来做数学。\n",
    "\n",
    "Plugin 能一定程度解决这两个问题。\n",
    "\n",
    "演示：\n",
    "\n",
    "1. 用天气插件查询天气\n",
    "2. 用 Wolfram Alpha 插件做数学题\n",
    "\n",
    "如果你对 Wolfarm Alpha 做数学的能力感到惊讶，想了解它和 ChatGPT 原理的不同，推荐阅读这篇文章：[《Wolfram|Alpha as the Way to Bring Computational Knowledge Superpowers to ChatGPT》](https://writings.stephenwolfram.com/2023/01/wolframalpha-as-the-way-to-bring-computational-knowledge-superpowers-to-chatgpt/)\n"
   ]
  },
  {
   "cell_type": "markdown",
   "id": "3a211775",
   "metadata": {},
   "source": [
    "## Plugins 的工作原理\n"
   ]
  },
  {
   "cell_type": "markdown",
   "id": "85e52362",
   "metadata": {},
   "source": [
    "<img src=\"plugins-workflow.png\" style=\"margin-left: 0px\">\n",
    "\n",
    "<div class=\"alert alert-warning\">\n",
    "<b>思考：</b>它怎么把我们的 prompt 和插件功能做匹配？\n",
    "</div>\n"
   ]
  },
  {
   "cell_type": "markdown",
   "id": "592840ed-38db-4690-8028-710e4b1ca497",
   "metadata": {},
   "source": [
    "## Plugins 开发\n"
   ]
  },
  {
   "cell_type": "markdown",
   "id": "3e6d9d31-f1ee-449c-8727-468247f23c19",
   "metadata": {},
   "source": [
    "可能是史上最容易开发的 plugin。只需要定义两个文件：\n",
    "\n",
    "1. `yourdomain.com/.well-known/ai-plugin.json`，描述插件的基本信息\n",
    "2. `openai.yaml`，描述插件的 API\n",
    "\n",
    "**而 OpenAI 那边，更简单，没有任何人和你对接。是 AI 和你对接！**AI 阅读上面两个文件，就知道该怎么调用你了。\n",
    "\n",
    "看个官方例子。\n",
    "\n",
    "`ai-plugin.json`：\n",
    "\n",
    "```json\n",
    "{\n",
    "  \"schema_version\": \"v1\",\n",
    "  \"name_for_human\": \"Sport Stats\",\n",
    "  \"name_for_model\": \"sportStats\",\n",
    "  \"description_for_human\": \"Get current and historical stats for sport players and games.\",\n",
    "  \"description_for_model\": \"Get current and historical stats for sport players and games. Always display results using markdown tables.\",\n",
    "  \"auth\": {\n",
    "    \"type\": \"none\"\n",
    "  },\n",
    "  \"api\": {\n",
    "    \"type\": \"openapi\",\n",
    "    \"url\": \"PLUGIN_HOSTNAME/openapi.yaml\"\n",
    "  },\n",
    "  \"logo_url\": \"PLUGIN_HOSTNAME/logo.png\",\n",
    "  \"contact_email\": \"support@example.com\",\n",
    "  \"legal_info_url\": \"https://example.com/legal\"\n",
    "}\n",
    "```\n",
    "\n",
    "`openapi.yaml`：\n",
    "\n",
    "```yaml\n",
    "openapi: 3.0.1\n",
    "info:\n",
    "  title: Sport Stats\n",
    "  description: Get current and historical stats for sport players and games.\n",
    "  version: \"v1\"\n",
    "servers:\n",
    "  - url: PLUGIN_HOSTNAME\n",
    "paths:\n",
    "  /players:\n",
    "    get:\n",
    "      operationId: getPlayers\n",
    "      summary: Retrieves all players from all seasons whose names match the query string.\n",
    "      parameters:\n",
    "        - in: query\n",
    "          name: query\n",
    "          schema:\n",
    "            type: string\n",
    "          description: Used to filter players based on their name. For example, ?query=davis will return players that have 'davis' in their first or last name.\n",
    "      responses:\n",
    "        \"200\":\n",
    "          description: OK\n",
    "  /teams:\n",
    "    get:\n",
    "      operationId: getTeams\n",
    "      summary: Retrieves all teams for the current season.\n",
    "      responses:\n",
    "        \"200\":\n",
    "          description: OK\n",
    "  /games:\n",
    "    get:\n",
    "      operationId: getGames\n",
    "      summary: Retrieves all games that match the filters specified by the args. Display results using markdown tables.\n",
    "      parameters:\n",
    "        - in: query\n",
    "          name: limit\n",
    "          schema:\n",
    "            type: string\n",
    "          description: The max number of results to return.\n",
    "        - in: query\n",
    "          name: seasons\n",
    "          schema:\n",
    "            type: array\n",
    "            items:\n",
    "              type: string\n",
    "          description: Filter by seasons. Seasons are represented by the year they began. For example, 2018 represents season 2018-2019.\n",
    "        - in: query\n",
    "          name: team_ids\n",
    "          schema:\n",
    "            type: array\n",
    "            items:\n",
    "              type: string\n",
    "          description: Filter by team ids. Team ids can be determined using the getTeams function.\n",
    "        - in: query\n",
    "          name: start_date\n",
    "          schema:\n",
    "            type: string\n",
    "          description: A single date in 'YYYY-MM-DD' format. This is used to select games that occur on or after this date.\n",
    "        - in: query\n",
    "          name: end_date\n",
    "          schema:\n",
    "            type: string\n",
    "          description: A single date in 'YYYY-MM-DD' format. This is used to select games that occur on or before this date.\n",
    "      responses:\n",
    "        \"200\":\n",
    "          description: OK\n",
    "  /stats:\n",
    "    get:\n",
    "      operationId: getStats\n",
    "      summary: Retrieves stats that match the filters specified by the args. Display results using markdown tables.\n",
    "      parameters:\n",
    "        - in: query\n",
    "          name: limit\n",
    "          schema:\n",
    "            type: string\n",
    "          description: The max number of results to return.\n",
    "        - in: query\n",
    "          name: player_ids\n",
    "          schema:\n",
    "            type: array\n",
    "            items:\n",
    "              type: string\n",
    "          description: Filter by player ids. Player ids can be determined using the getPlayers function.\n",
    "        - in: query\n",
    "          name: game_ids\n",
    "          schema:\n",
    "            type: array\n",
    "            items:\n",
    "              type: string\n",
    "          description: Filter by game ids. Game ids can be determined using the getGames function.\n",
    "        - in: query\n",
    "          name: start_date\n",
    "          schema:\n",
    "            type: string\n",
    "          description: A single date in 'YYYY-MM-DD' format. This is used to select games that occur on or after this date.\n",
    "        - in: query\n",
    "          name: end_date\n",
    "          schema:\n",
    "            type: string\n",
    "          description: A single date in 'YYYY-MM-DD' format. This is used to select games that occur on or before this date.\n",
    "      responses:\n",
    "        \"200\":\n",
    "          description: OK\n",
    "  /season_averages:\n",
    "    get:\n",
    "      operationId: getSeasonAverages\n",
    "      summary: Retrieves regular season averages for the given players. Display results using markdown tables.\n",
    "      parameters:\n",
    "        - in: query\n",
    "          name: season\n",
    "          schema:\n",
    "            type: string\n",
    "          description: Defaults to the current season. A season is represented by the year it began. For example, 2018 represents season 2018-2019.\n",
    "        - in: query\n",
    "          name: player_ids\n",
    "          schema:\n",
    "            type: array\n",
    "            items:\n",
    "              type: string\n",
    "          description: Filter by player ids. Player ids can be determined using the getPlayers function.\n",
    "      responses:\n",
    "        \"200\":\n",
    "          description: OK\n",
    "```\n",
    "\n",
    "`description` 的内容非常重要，决定了 ChatGPT 会不会调用你的插件，调用得是否正确。\n",
    "\n",
    "<div class=\"alert alert-warning\">\n",
    "<b>思考：</b>为什么不干脆整个描述文件都用自然语言写？非要用结构化的 JSON 和 YAML？\n",
    "</div>\n"
   ]
  },
  {
   "cell_type": "markdown",
   "id": "f9c572d1-e387-44c3-b1b2-cb08905aad85",
   "metadata": {},
   "source": [
    "## Plugins 的市场表现\n"
   ]
  },
  {
   "cell_type": "markdown",
   "id": "a9333eca-2f96-4b32-842b-08b0f97b6bc0",
   "metadata": {},
   "source": [
    "1. 时间线：\n",
    "   1. 3 月 24 日发布， 提供 11 个插件，可以申请加入 waitlist 获得使用权\n",
    "   2. 5 月 15 日开始向 Plus 用户全量开放插件和 Browsing， 插件数 70 多个\n",
    "   3. 7 月 5 日因安全原因，关闭 Browsing（用户可通过此功能访问付费页面）\n",
    "   4. 7 月 11 日开始全量开放 Code Interpreter。插件数已超 400\n",
    "2. 媒体将其类比为 App Store，获得鼓吹\n",
    "3. 6 月 7 日（全面放开后三星期）一篇应 OpenAI 要求而[被删除的帖子](https://humanloop.com/blog/openai-plans)中透露，Sam Altman 在一个闭门会中说：「插件的实际使用情况表明，除了 Browsing 以外，还没有达到理想的产品市场契合点。他表示，**很多人认为他们希望自己的应用程序位于 ChatGPT 中，但他们真正想要的是应用程序中的 ChatGPT**。」（被删内容这里可以看到：https://web.archive.org/web/20230531203946/https://humanloop.com/blog/openai-plans）\n",
    "\n",
    "<div class=\"alert alert-warning\">\n",
    "<b>思考：</b>未来使用 AI 的入口，是有类似 ChatGPT 这样的超级入口，还是每个场景都有自己的 AI 入口（比如 Copilot）？\n",
    "</div>\n"
   ]
  },
  {
   "cell_type": "markdown",
   "id": "a03c9579-8d0a-419e-b01e-30066184fef5",
   "metadata": {},
   "source": [
    "## Plugins 失败分析\n"
   ]
  },
  {
   "cell_type": "markdown",
   "id": "0a28bf24-0afb-4622-b2fb-02ac6849ba22",
   "metadata": {},
   "source": [
    "它暂时歇菜了，主要原因：\n",
    "\n",
    "1. 缺少「强 Agent」调度，只能手工选三个 plugin，使用成本太高。（解决此问题，相当于 App Store + Siri，可挑战手机操作系统地位）\n",
    "2. 不在「场景」中，不能提供端到端一揽子服务。（解决此问题，就是全能私人助理了，人类唯一需要的软件）\n",
    "3. 延迟巨大。（至少两次 GPT-4 生成，和一次 Web API 调用）\n",
    "\n",
    "这是我们做「智能应用」也要面对的问题。OpenAI 很快推出了大杀器 Function Calling 功能，来帮助我们开发更好的智能应用\n"
   ]
  },
  {
   "cell_type": "markdown",
   "id": "f952f811-bd4a-4d89-ae97-e19436f70627",
   "metadata": {},
   "source": [
    "## Function Calling 的机制\n"
   ]
  },
  {
   "cell_type": "markdown",
   "id": "197c20b9-d85a-4a37-8289-bc2ad542717d",
   "metadata": {},
   "source": [
    "<img src=\"function-calling-workflow.png\" style=\"margin-left: 0px\">\n"
   ]
  },
  {
   "cell_type": "markdown",
   "id": "b021dbe4-dad2-42c9-a9bc-1b42d03244ac",
   "metadata": {},
   "source": [
    "## Function Calling 示例 1：加法计算器\n"
   ]
  },
  {
   "cell_type": "markdown",
   "id": "e3a69dec",
   "metadata": {},
   "source": [
    "需求：用户输入任意可以用加法解决的问题，都能得到计算结果。\n"
   ]
  },
  {
   "cell_type": "code",
   "execution_count": 3,
   "id": "12ce6eb2",
   "metadata": {},
   "outputs": [],
   "source": [
    "# 加载环境变量\n",
    "import openai\n",
    "import os\n",
    "import json\n",
    "\n",
    "from dotenv import load_dotenv, find_dotenv\n",
    "_ = load_dotenv(find_dotenv())  # 读取本地 .env 文件，里面定义了 OPENAI_API_KEY\n",
    "\n",
    "openai.api_key = os.getenv('OPENAI_API_KEY')\n"
   ]
  },
  {
   "cell_type": "code",
   "execution_count": 4,
   "id": "f4348d11",
   "metadata": {},
   "outputs": [],
   "source": [
    "def get_completion(messages, model=\"gpt-3.5-turbo\"):\n",
    "    response = openai.ChatCompletion.create(\n",
    "        model=model,\n",
    "        messages=messages,\n",
    "        temperature=0,  # 模型输出的随机性，0 表示随机性最小\n",
    "        functions=[{  # 用 JSON 描述函数。可以定义多个，但是只有一个会被调用，也可能都不会被调用\n",
    "            \"name\": \"sum\",\n",
    "            \"description\": \"计算数组中所有数字的和\",\n",
    "            \"parameters\": {\n",
    "                \"type\": \"object\",\n",
    "                \"properties\": {\n",
    "                    \"numbers\": {\n",
    "                        \"type\": \"array\",\n",
    "                        \"items\": {\n",
    "                            \"type\": \"number\"\n",
    "                        }\n",
    "                    }\n",
    "                }\n",
    "            },\n",
    "        }],\n",
    "    )\n",
    "    return response.choices[0].message\n"
   ]
  },
  {
   "cell_type": "code",
   "execution_count": 5,
   "id": "588f76aa",
   "metadata": {},
   "outputs": [
    {
     "name": "stdout",
     "output_type": "stream",
     "text": [
      "{\n",
      "  \"role\": \"assistant\",\n",
      "  \"content\": null,\n",
      "  \"function_call\": {\n",
      "    \"name\": \"sum\",\n",
      "    \"arguments\": \"{\\n  \\\"numbers\\\": [2, 4]\\n}\"\n",
      "  }\n",
      "}\n",
      "6\n",
      "桌上有6个水果。\n"
     ]
    }
   ],
   "source": [
    "# prompt = \"Tell me the sum of 1, 2, 3, 4, 5, 6, 7, 8, 9, 10.\"\n",
    "prompt = \"桌上有 2 个苹果，四个桃子和 3 本书，一共有几个水果？\"\n",
    "#prompt = \"1+2+3+4+...+99+100=?\"\n",
    "messages = [\n",
    "    {\"role\": \"system\", \"content\": \"你是一个小学数学老师，你要教学生加法\"},\n",
    "    {\"role\": \"user\", \"content\": prompt}\n",
    "]\n",
    "response = get_completion(messages)\n",
    "messages.append(response)  # 把大模型的回复加入到对话中\n",
    "print(response)\n",
    "\n",
    "# 如果返回的是函数调用结果，则打印出来\n",
    "if (response.get(\"function_call\")):\n",
    "    # 是否要调用 sum\n",
    "    if (response[\"function_call\"][\"name\"] == \"sum\"):\n",
    "        args = json.loads(response[\"function_call\"][\"arguments\"])\n",
    "        result = sum(args[\"numbers\"])\n",
    "        print(result)\n",
    "        messages.append(\n",
    "            {\"role\": \"function\", \"name\": \"sum\", \"content\": str(result)})  # 整数 result，必须转成字符串\n",
    "        print(get_completion(messages).content)\n"
   ]
  },
  {
   "cell_type": "markdown",
   "id": "3cc17289",
   "metadata": {},
   "source": [
    "## Function Calling 实例 2：四则混合运算计算器\n"
   ]
  },
  {
   "cell_type": "code",
   "execution_count": 45,
   "id": "d5cdf2a8",
   "metadata": {},
   "outputs": [],
   "source": [
    "def get_completion(messages, model=\"gpt-4\"):\n",
    "    response = openai.ChatCompletion.create(\n",
    "        model=model,\n",
    "        messages=messages,\n",
    "        temperature=0,  # 模型输出的随机性，0 表示随机性最小\n",
    "        functions=[  # 用 JSON 描述函数。可以定义多个，但是只有一个会被调用，也可能都不会被调用\n",
    "            {\n",
    "                \"name\": \"sum\",\n",
    "                \"description\": \"计算数组中所有数字的和\",\n",
    "                \"parameters\": {\n",
    "                    \"type\": \"object\",\n",
    "                    \"properties\": {\n",
    "                        \"numbers\": {\n",
    "                            \"type\": \"array\",\n",
    "                            \"items\": {\n",
    "                                \"type\": \"number\",\n",
    "                                \"description\": \"必须是数值类型\"\n",
    "                            }\n",
    "                        }\n",
    "                    }\n",
    "                },\n",
    "            },\n",
    "            {\n",
    "                \"name\": \"subtract\",\n",
    "                \"description\": \"计算 a - b 的值\",\n",
    "                \"parameters\": {\n",
    "                    \"type\": \"object\",\n",
    "                    \"properties\": {\n",
    "                        \"a\": {\n",
    "                            \"type\": \"number\",\n",
    "                            \"description\": \"被减数，必须是数值类型\"\n",
    "                        },\n",
    "                        \"b\": {\n",
    "                            \"type\": \"number\",\n",
    "                            \"description\": \"减数，必须是数值类型\"\n",
    "                        }\n",
    "                    }\n",
    "                },\n",
    "            },\n",
    "            {\n",
    "                \"name\": \"multiply\",\n",
    "                \"description\": \"计算数组中所有数字的积\",\n",
    "                \"parameters\": {\n",
    "                    \"type\": \"object\",\n",
    "                    \"properties\": {\n",
    "                        \"numbers\": {\n",
    "                            \"type\": \"array\",\n",
    "                            \"items\": {\n",
    "                                \"type\": \"number\",\n",
    "                                \"description\": \"必须是数值类型\"\n",
    "                            }\n",
    "                        }\n",
    "                    }\n",
    "                },\n",
    "            },\n",
    "            {\n",
    "                \"name\": \"divide\",\n",
    "                \"description\": \"计算 a/b 的值\",\n",
    "                \"parameters\": {\n",
    "                    \"type\": \"object\",\n",
    "                    \"properties\": {\n",
    "                        \"a\": {\n",
    "                            \"type\": \"number\",\n",
    "                            \"description\": \"被除数，必须是数值类型\"\n",
    "                        },\n",
    "                        \"b\": {\n",
    "                            \"type\": \"number\",\n",
    "                            \"description\": \"除数，必须是数值类型\"\n",
    "                        }\n",
    "                    }\n",
    "                },\n",
    "            }\n",
    "        ],\n",
    "    )\n",
    "    return response.choices[0].message\n"
   ]
  },
  {
   "cell_type": "code",
   "execution_count": 49,
   "id": "c168a8fd",
   "metadata": {
    "scrolled": true
   },
   "outputs": [
    {
     "name": "stdout",
     "output_type": "stream",
     "text": [
      "{\n",
      "  \"role\": \"assistant\",\n",
      "  \"content\": null,\n",
      "  \"function_call\": {\n",
      "    \"name\": \"multiply\",\n",
      "    \"arguments\": \"{\\n  \\\"numbers\\\": [6, 3]\\n}\"\n",
      "  }\n",
      "}\n",
      "18\n",
      "{\n",
      "  \"role\": \"assistant\",\n",
      "  \"content\": null,\n",
      "  \"function_call\": {\n",
      "    \"name\": \"sum\",\n",
      "    \"arguments\": \"{\\n  \\\"numbers\\\": [4, 2]\\n}\"\n",
      "  }\n",
      "}\n",
      "6\n",
      "{\n",
      "  \"role\": \"assistant\",\n",
      "  \"content\": null,\n",
      "  \"function_call\": {\n",
      "    \"name\": \"divide\",\n",
      "    \"arguments\": \"{\\n  \\\"a\\\": 18,\\n  \\\"b\\\": 6\\n}\"\n",
      "  }\n",
      "}\n",
      "3.0\n",
      "{\n",
      "  \"role\": \"assistant\",\n",
      "  \"content\": \"6 * 3 / (4+2) = 3\"\n",
      "}\n",
      "6 * 3 / (4+2) = 3\n"
     ]
    }
   ],
   "source": [
    "prompt = \"6 * 3 / (4+2) = ?\"\n",
    "# prompt = \"桌上有 2 个苹果，四个桃子和 3 本书，水果比书多多少？\"\n",
    "# prompt = \"\"\"\n",
    "# 让我们一步步计算：小明在一家水果店买水果。他买了X斤苹果，每斤10元；4斤香蕉，每斤5元；\n",
    "# 和3斤橙子，每斤8元。他手头有100元。请问小明买完这些水果后，他还剩下多少钱？\n",
    "#\"\"\"\n",
    "\n",
    "messages = [\n",
    "    {\"role\": \"system\", \"content\": \"你是一个小学数学老师，你要教学生四则混合运算\"},\n",
    "    {\"role\": \"user\", \"content\": prompt}\n",
    "]\n",
    "\n",
    "response = get_completion(messages)\n",
    "messages.append(response)  # 把大模型的回复加入到对话中。非常重要！\n",
    "print(response)\n",
    "while (response.get(\"function_call\")):\n",
    "    # 是否要调用 sum\n",
    "    args = json.loads(response[\"function_call\"][\"arguments\"])\n",
    "    function_name = response[\"function_call\"][\"name\"]\n",
    "\n",
    "    if (function_name == \"sum\"):\n",
    "        result = sum(args[\"numbers\"])\n",
    "    elif (function_name == \"subtract\"):\n",
    "        result = args[\"a\"] - args[\"b\"]\n",
    "    elif (function_name == \"multiply\"):\n",
    "        result = 1\n",
    "        for number in args[\"numbers\"]:\n",
    "            result *= number\n",
    "    elif (function_name == \"divide\"):\n",
    "        result = args[\"a\"] / args[\"b\"]\n",
    "    else:\n",
    "        result = \"Unknown function\"\n",
    "\n",
    "    print(result)\n",
    "    messages.append(\n",
    "        {\"role\": \"function\", \"name\": function_name, \"content\": str(result)})\n",
    "    response = get_completion(messages)\n",
    "    messages.append(response)  # 把大模型的回复加入到对话中\n",
    "    print(response)\n",
    "\n",
    "print(response.content)\n"
   ]
  },
  {
   "cell_type": "markdown",
   "id": "4d5ce872-cde0-4a9b-a441-8b2129585a1a",
   "metadata": {},
   "source": [
    "# Function Calling 示例 3：查询数据库\n"
   ]
  },
  {
   "cell_type": "markdown",
   "id": "c119a8ef",
   "metadata": {},
   "source": [
    "需求：从订单表中查询各种信息，比如某个用户的订单数量、某个商品的销量、某个用户的消费总额等等。\n"
   ]
  },
  {
   "cell_type": "code",
   "execution_count": 50,
   "id": "26d7f67b-67a3-491d-8cc0-e427c2c684e3",
   "metadata": {},
   "outputs": [],
   "source": [
    "def get_sql_completion(messages, model=\"gpt-3.5-turbo\"):\n",
    "    response = openai.ChatCompletion.create(\n",
    "        model=model,\n",
    "        messages=messages,\n",
    "        temperature=0,  # 模型输出的随机性，0 表示随机性最小\n",
    "        function_call=\"auto\",\n",
    "        functions=[{  # 摘自 OpenAI 官方示例 https://github.com/openai/openai-cookbook/blob/main/examples/How_to_call_functions_with_chat_models.ipynb\n",
    "            \"name\": \"ask_database\",\n",
    "            \"description\": \"Use this function to answer user questions about business. Output should be a fully formed SQL query.\",\n",
    "            \"parameters\": {\n",
    "                \"type\": \"object\",\n",
    "                \"properties\": {\n",
    "                    \"query\": {\n",
    "                        \"type\": \"string\",\n",
    "                        \"description\": f\"\"\"\n",
    "                            SQL query extracting info to answer the user's question.\n",
    "                            SQL should be written using this database schema:\n",
    "                            {database_schema_string}\n",
    "                            The query should be returned in plain text, not in JSON.\n",
    "                            \"\"\",\n",
    "                    }\n",
    "                },\n",
    "                \"required\": [\"query\"],\n",
    "            },\n",
    "        }],\n",
    "    )\n",
    "    return response.choices[0].message\n"
   ]
  },
  {
   "cell_type": "code",
   "execution_count": 51,
   "id": "734f3860",
   "metadata": {},
   "outputs": [
    {
     "name": "stdout",
     "output_type": "stream",
     "text": [
      "{\n",
      "  \"role\": \"assistant\",\n",
      "  \"content\": null,\n",
      "  \"function_call\": {\n",
      "    \"name\": \"ask_database\",\n",
      "    \"arguments\": \"{\\n  \\\"query\\\": \\\"SELECT SUM(price) AS total_sales FROM orders WHERE status = 1 AND create_time >= DATE_TRUNC('month', CURRENT_DATE) - INTERVAL '1 month' AND create_time < DATE_TRUNC('month', CURRENT_DATE)\\\"\\n}\"\n",
      "  }\n",
      "}\n"
     ]
    }
   ],
   "source": [
    "#  描述数据库表结构\n",
    "database_schema_string = \"\"\"\n",
    "CREATE TABLE orders (\n",
    "    id INT PRIMARY KEY NOT NULL, -- 主键，不允许为空\n",
    "    customer_id INT NOT NULL, -- 客户ID，不允许为空\n",
    "    product_id INT NOT NULL, -- 产品ID，不允许为空\n",
    "    price DECIMAL(10,2) NOT NULL, -- 价格，不允许为空\n",
    "    status INT NOT NULL, -- 订单状态，整数类型，不允许为空。0代表待支付，1代表已支付，2代表已退款\n",
    "    create_time TIMESTAMP DEFAULT CURRENT_TIMESTAMP, -- 创建时间，默认为当前时间\n",
    "    pay_time TIMESTAMP -- 支付时间，可以为空\n",
    ");\n",
    "\"\"\"\n",
    "\n",
    "prompt = \"上个月的销售额是多少？\"\n",
    "# prompt = \"统计每月每件商品的销售额\"\n",
    "# prompt = \"这星期哪个用户消费最高？消费多少？\"\n",
    "messages = [\n",
    "    {\"role\": \"system\", \"content\": \"基于 order 表回答用户问题\"},\n",
    "    {\"role\": \"user\", \"content\": prompt}\n",
    "]\n",
    "response = get_sql_completion(messages)\n",
    "print(response)\n"
   ]
  },
  {
   "cell_type": "markdown",
   "id": "f1a50e7f",
   "metadata": {},
   "source": [
    "## Function Calling 示例 4：多表查询\n"
   ]
  },
  {
   "cell_type": "code",
   "execution_count": 53,
   "id": "e71f39b7",
   "metadata": {},
   "outputs": [
    {
     "name": "stdout",
     "output_type": "stream",
     "text": [
      "{\n",
      "  \"role\": \"assistant\",\n",
      "  \"content\": null,\n",
      "  \"function_call\": {\n",
      "    \"name\": \"ask_database\",\n",
      "    \"arguments\": \"{\\n  \\\"query\\\": \\\"SELECT c.customer_name, p.product_name, COUNT(o.id) AS quantity, SUM(o.price) AS total_cost FROM customers c JOIN orders o ON c.id = o.customer_id JOIN products p ON o.product_id = p.id WHERE o.create_time >= DATE_SUB(CURDATE(), INTERVAL WEEKDAY(CURDATE()) DAY) AND o.create_time < DATE_ADD(CURDATE(), INTERVAL 1 DAY) GROUP BY c.customer_name, p.product_name ORDER BY total_cost DESC LIMIT 1\\\"\\n}\"\n",
      "  }\n",
      "}\n"
     ]
    }
   ],
   "source": [
    "#  描述数据库表结构\n",
    "database_schema_string = \"\"\"\n",
    "CREATE TABLE customers (\n",
    "    id INT PRIMARY KEY NOT NULL, -- 主键，不允许为空\n",
    "    customer_name VARCHAR(255) NOT NULL, -- 客户名，不允许为空\n",
    "    email VARCHAR(255) UNIQUE, -- 邮箱，唯一\n",
    "    register_time TIMESTAMP DEFAULT CURRENT_TIMESTAMP -- 注册时间，默认为当前时间\n",
    ");\n",
    "CREATE TABLE products (\n",
    "    id INT PRIMARY KEY NOT NULL, -- 主键，不允许为空\n",
    "    product_name VARCHAR(255) NOT NULL, -- 产品名称，不允许为空\n",
    "    price DECIMAL(10,2) NOT NULL -- 价格，不允许为空\n",
    ");\n",
    "CREATE TABLE orders (\n",
    "    id INT PRIMARY KEY NOT NULL, -- 主键，不允许为空\n",
    "    customer_id INT NOT NULL, -- 客户ID，不允许为空\n",
    "    product_id INT NOT NULL, -- 产品ID，不允许为空\n",
    "    price DECIMAL(10,2) NOT NULL, -- 价格，不允许为空\n",
    "    status INT NOT NULL, -- 订单状态，整数类型，不允许为空。0代表待支付，1代表已支付，2代表已退款\n",
    "    create_time TIMESTAMP DEFAULT CURRENT_TIMESTAMP, -- 创建时间，默认为当前时间\n",
    "    pay_time TIMESTAMP -- 支付时间，可以为空\n",
    ");\n",
    "\"\"\"\n",
    "\n",
    "#prompt = \"统计每月每件商品的销售额\"\n",
    "prompt = \"这星期消费最高的用户是谁？他买了哪些商品？ 每件商品买了几件？花费多少？\"\n",
    "messages = [\n",
    "    {\"role\": \"system\", \"content\": \"基于 order 表回答用户问题\"},\n",
    "    {\"role\": \"user\", \"content\": prompt}\n",
    "]\n",
    "response = get_sql_completion(messages)\n",
    "print(response)\n"
   ]
  },
  {
   "cell_type": "markdown",
   "id": "b08a9481-d743-444a-8be3-d981f7194558",
   "metadata": {},
   "source": [
    "## Function Calling 的注意事项\n"
   ]
  },
  {
   "cell_type": "markdown",
   "id": "a89f34ca",
   "metadata": {},
   "source": [
    "<div class=\"alert alert-success\">\n",
    "<b>划重点：</b>\n",
    "<ol>\n",
    "<li>只有 `gpt-3.5-turbo-0613` 和 `gpt-4-0613` 可用。它俩针对 Function Calling 做了 fine-tuning，以尽可能保证正确率。机理后面课时会讲</li>\n",
    "<li>但不保证不出错，包括不保证 json 格式正确。所以官方强烈建议（原文：strongly recommend）如果有写操作，一定插入人工流程做确认。但比纯靠 prompt 控制，可靠性是大了很多的</li>\n",
    "<li>函数声明是消耗 token 的。要在功能覆盖、省钱、节约上下文窗口之间找到最佳平衡</li>\n",
    "<li>学员拐爷的实战经验：把自己的函数调用结果用自然语言给到 OpenAI，效果有时更好。调优时可以试试</li>\n",
    "</ol>\n",
    "</div>\n"
   ]
  },
  {
   "cell_type": "markdown",
   "id": "130556ef",
   "metadata": {},
   "source": [
    "## 当只想要个 JSON\n"
   ]
  },
  {
   "cell_type": "markdown",
   "id": "c391db0c",
   "metadata": {},
   "source": [
    "<div class=\"alert alert-warning\">\n",
    "<b>思考：</b>如果只想要个 JSON 格式数据，那么 prompt 和 Function Calling 哪个更好？\n",
    "</div>\n"
   ]
  },
  {
   "cell_type": "code",
   "execution_count": 54,
   "id": "5e8e2a8d",
   "metadata": {},
   "outputs": [
    {
     "name": "stdout",
     "output_type": "stream",
     "text": [
      "{'name': '王', 'address': '北京市朝阳区亮马桥外交办公大楼', 'tel': '13012345678'}\n"
     ]
    }
   ],
   "source": [
    "def get_completion(messages, model=\"gpt-3.5-turbo\"):\n",
    "    response = openai.ChatCompletion.create(\n",
    "        model=model,\n",
    "        messages=messages,\n",
    "        temperature=0,  # 模型输出的随机性，0 表示随机性最小\n",
    "        function_call=\"auto\",\n",
    "        functions=[{\n",
    "            \"name\": \"add_contact\",\n",
    "            \"description\": \"添加联系人\",\n",
    "            \"parameters\": {\n",
    "                \"type\": \"object\",\n",
    "                \"properties\": {\n",
    "                    \"name\": {\n",
    "                        \"type\": \"string\",\n",
    "                        \"description\": \"联系人姓名\"\n",
    "                    },\n",
    "                    \"address\": {\n",
    "                        \"type\": \"string\",\n",
    "                        \"description\": \"联系人地址\"\n",
    "                    },\n",
    "                    \"tel\": {\n",
    "                        \"type\": \"string\",\n",
    "                        \"description\": \"联系人电话\"\n",
    "                    },\n",
    "                }\n",
    "            },\n",
    "        }],\n",
    "    )\n",
    "    return response.choices[0].message\n",
    "\n",
    "\n",
    "prompt = \"帮我寄给上周认识那个王啥啥来着那个女的，地址是北京市朝阳区亮马桥外交办公大楼，电话13012345678。\"\n",
    "messages = [\n",
    "    {\"role\": \"system\", \"content\": \"你是一个联系人录入员。遇到以“啥啥”、“某某”、“什么”等模糊称谓指代的人名，只记录姓氏\"},\n",
    "    {\"role\": \"user\", \"content\": prompt}\n",
    "]\n",
    "response = get_completion(messages)\n",
    "args = json.loads(response[\"function_call\"][\"arguments\"])\n",
    "print(args)\n"
   ]
  },
  {
   "cell_type": "markdown",
   "id": "2ea40709",
   "metadata": {},
   "source": [
    "因为 Function Calling 能力是特别 fine-tune 在模型内的，所以输出更稳定，用来获取 JSON 更可靠。搞个假函数声明，就能拿到 JSON 了。\n"
   ]
  },
  {
   "cell_type": "markdown",
   "id": "816523d9",
   "metadata": {},
   "source": [
    "## Function Calling 的想象空间\n"
   ]
  },
  {
   "cell_type": "markdown",
   "id": "d8178468",
   "metadata": {},
   "source": [
    "想象你是下面产品的研发，怎样用 Function Calling 实现下面的功能？\n",
    "\n",
    "1. 用户对着微信说：「给我每个女性好友发一条情真意切的拜年消息，还要带点儿小幽默」\n",
    "2. 用户对着富途牛牛说：「人工智能相关股票，市盈率最低的是哪几个？最近交易量如何？都有哪些机构持有？」\n",
    "3. 用户对着京东说：「我想买一台 65 寸的电视，不要日货，价格在 5000 元左右」\n",
    "\n",
    "基本上：\n",
    "\n",
    "1. 我们的任何功能都可以和大模型结合，提供更好的用户体验\n",
    "2. 通过大模型，完成内部功能的组合调用，完全 agent 化设计系统架构\n",
    "\n",
    "遗憾的是，暂时国内还没有任何大模型支持 Function Calling。但应该很快都会陆续支持起来，因为太好用了。OpenAI 再次定义了行业标准。\n",
    "\n",
    "当然，「幻觉」仍然是存在的。如何尽量减少幻觉的影响，后面课程会讲到。\n"
   ]
  },
  {
   "cell_type": "markdown",
   "id": "73bbafe1",
   "metadata": {},
   "source": [
    "## 彩蛋\n"
   ]
  },
  {
   "cell_type": "markdown",
   "id": "35cb0174",
   "metadata": {},
   "source": [
    "同学「拐爷&&老拐瘦」可能是国内最早在真实业务里落地 Function Calling 的人。本节课从他的经验中吸取了不少营养，特此致谢。下面是它的产品 demo 视频\n",
    "\n",
    "<video src=\"./demo.mp4\" controls=\"controls\" width=\"100%\" style=\"margin-left: 0px\"></video>\n"
   ]
  },
  {
   "cell_type": "markdown",
   "id": "7ffb7f72",
   "metadata": {},
   "source": [
    "<img src=\"./guai.jpeg\" style=\"margin-left: 0px\">\n"
   ]
  },
  {
   "cell_type": "markdown",
   "id": "45dab514",
   "metadata": {},
   "source": [
    "## 作业\n",
    "\n",
    "针对你公司数据库中的某个或某几个表，写一个程序，从自然语言生成查询他们的 SQL。\n",
    "\n",
    "也大胆试试写数据库？出了问题，可不怪 AGI 课堂哦。\n"
   ]
  }
 ],
 "metadata": {
  "kernelspec": {
   "display_name": "Python 3 (ipykernel)",
   "language": "python",
   "name": "python3"
  },
  "language_info": {
   "codemirror_mode": {
    "name": "ipython",
    "version": 3
   },
   "file_extension": ".py",
   "mimetype": "text/x-python",
   "name": "python",
   "nbconvert_exporter": "python",
   "pygments_lexer": "ipython3",
   "version": "3.11.4"
  }
 },
 "nbformat": 4,
 "nbformat_minor": 5
}
