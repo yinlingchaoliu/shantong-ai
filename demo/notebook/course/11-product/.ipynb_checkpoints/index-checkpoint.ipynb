{
 "cells": [
  {
   "cell_type": "markdown",
   "metadata": {},
   "source": [
    "## 💡 这节课会带给你\n",
    "\n",
    "1. AI 产品和传统产品研发流程的区别\n",
    "1. 如何找到有商业价值的产品创意\n",
    "1. 如何快速验证想法\n",
    "\n",
    "开始上课！\n"
   ]
  },
  {
   "cell_type": "markdown",
   "metadata": {},
   "source": [
    "## 研发流程\n"
   ]
  },
  {
   "cell_type": "markdown",
   "metadata": {},
   "source": [
    "AI 率先改变的是软件工程界。产品开发流程会发生下面的变化。\n",
    "\n",
    "<img src=\"software_process.png\" width=\"600px\" />\n",
    "\n",
    "主要改变：\n",
    "\n",
    "1. 需求阶段开始调试 prompt，不动代码的情况下验证可行性\n",
    "2. 后续迭代，prompt 也是独立维护，不和代码耦合\n",
    "3. 借助工具快速搭出 demo，验证需求\n",
    "4. 全栈开发\n"
   ]
  },
  {
   "cell_type": "markdown",
   "metadata": {},
   "source": [
    "## 立项\n",
    "\n",
    "在立项阶段，要对这三个要素有初步的答案：\n",
    "\n",
    "1. 真实需求是什么？\n",
    "2. 商业模式是什么？\n",
    "3. 推广渠道在哪里？\n",
    "\n",
    "初步答案可能不靠谱，没关系，后面都有修正机会。\n",
    "\n",
    "但起点和要特别关注的是，寻找**真实**需求。然而，建议把思考顺序反过来，因为\n",
    "\n",
    "1. 推广渠道和商业模式不是程序员的舒适区，所以要先想清楚\n",
    "2. 需求想太多，容易陷入兴奋，后两者不多想就动手\n",
    "3. 推广渠道决定用户群体，这确实应该最先定义\n"
   ]
  },
  {
   "cell_type": "markdown",
   "metadata": {},
   "source": [
    "### 推广渠道\n"
   ]
  },
  {
   "cell_type": "markdown",
   "metadata": {},
   "source": [
    "<div class=\"alert alert-success\">\n",
    "<b>立项阶段只回答一个问题：</b>到哪找 100 个种子用户，或 1-2 个种子客户？\n",
    "</div>\n",
    "\n",
    "用户/客户在手边，不仅好触达，而且说明你离他们不远，是懂他们的（至少不陌生）。\n",
    "\n",
    "推论：赚钱要先赚熟人的，不丢人。\n",
    "\n",
    "<div class=\"alert alert-warning\">\n",
    "<b>思考：</b>你身边都有什么人群/客群能成为种子？在纸上列出来\n",
    "</div>\n"
   ]
  },
  {
   "cell_type": "markdown",
   "metadata": {},
   "source": [
    "### 可行的商业模式\n"
   ]
  },
  {
   "cell_type": "markdown",
   "metadata": {},
   "source": [
    "#### 常见商业模式\n",
    "\n",
    "| 模式       | 说明                        | 2C 产品                                          | 2B 产品                             |\n",
    "| ---------- | --------------------------- | ------------------------------------------------ | ----------------------------------- |\n",
    "| 免费模式   | 免费使用，广告/增值服务变现 | 微信、抖音、王者荣耀、ChatGPT、Bing Chat         | GitHub、钉钉、飞书                  |\n",
    "| 计费模式   | 按次/按量/按时长收费        | 滴滴打车、共享单车、共享充电宝                   | 云服务器、云数据库、云存储          |\n",
    "| 订阅模式   | 包月、包季、包年            | 网易云音乐、爱奇艺、ChatGPT Plus、GitHub Copilot | GitHub Copilot                      |\n",
    "| 一次性付费 | 购买一次，终身使用          | Alfred、塞尔达传说                               | Confluence、JIRA、Windows、外包项目 |\n",
    "\n",
    "<div class=\"alert alert-warning\">\n",
    "<b>思考：</b>为什么 AI 产品采用订阅模式的更多？\n",
    "</div>\n",
    "\n",
    "#### 适合独立开发者/AI 的模式\n",
    "\n",
    "1. 不要烧钱。如果用户/客户不肯为你的产品掏钱，说明需求选错了\n",
    "2. 2B 外包项目，尽量一次性付费，且做好只收到首付款的准备\n",
    "3. 订阅制最香\n",
    "   1. 每月有固定收入，增长压力不大（很多好产品死于增长）\n",
    "   2. 连续包月，很多人忘记退订……（但在中国较难获得权限）\n",
    "\n",
    "支付宝[周期扣款的准入条件](https://opendocs.alipay.com/open/20190319114403226822/intro#%E5%87%86%E5%85%A5%E6%9D%A1%E4%BB%B6)：\n",
    "\n",
    "1. 在开通时，商家需要在线提交营业执照，注册资本大于等于 100 万人民币。\n",
    "2. 企业无经营风险，包含但不限于工商信息可查询到的风险信息：行政处罚、股权冻结、股权质押、动产抵押、动产抵押物等。\n",
    "\n",
    "微信支付的门槛更高，参考[「微信支付——扣款服务（委托代扣）最全资料整理」](https://zhuanlan.zhihu.com/p/548443629)。基础条件：\n",
    "\n",
    "1. 商户需要提供服务电话（要求通过微信支付认证，并展示在账单详情页中）\n",
    "2. 接入商户一个月内整体客诉已经妥善处理并反馈平台，近一个月客诉小于万分之一（含主体）\n",
    "3. 商户主体无违规\n",
    "4. 接入代扣业务需要有一定的交易量要求，3 个月以上，主动支付的日交易笔数超过 1000 笔\n",
    "\n",
    "#### 要融资吗？\n",
    "\n",
    "请相信：**天下没有免费的午餐**\n",
    "\n",
    "只在以下情况考虑融资：\n",
    "\n",
    "1. 当有个「改变世界」的想法，无法低成本验证，必须先烧钱时，拉风投是最好的选择。保护好自己的底线\n",
    "2. 但模式已经验证，需要资金快速扩张时，果断融资。但，优先考虑正规借贷，而不是风投\n",
    "3. 当需要投资人除了钱以外的其它资源时，比如品牌、生态、渠道、人脉等\n",
    "\n",
    "切记：没有融资经验，别贸然融资。找有经验的人帮忙\n",
    "\n",
    "<div class=\"alert alert-warning\">\n",
    "<b>思考：</b>你列出的种子群体，哪些付费能力较强？\n",
    "</div>\n"
   ]
  },
  {
   "cell_type": "markdown",
   "metadata": {},
   "source": [
    "### 找到真实需求\n"
   ]
  },
  {
   "cell_type": "markdown",
   "metadata": {},
   "source": [
    "超过半数的产品经理，都找不到真实需求。\n",
    "\n",
    "人的语言、行为表达出的需求，往往不是真实需求。比如：\n",
    "\n",
    "1. 「酱香拿铁」卖爆了，买的人是为了喝咖啡吗？\n",
    "2. 妈妈要你给她买生日蛋糕，她是没钱买吗？她是想吃蛋糕吗？\n",
    "3. 你来学习大模型技术，你的需求就是学大模型吗？\n",
    "\n",
    "课堂练习：\n",
    "\n",
    "客户想要一套「智能客服系统」。他真正需求是什么？\n",
    "\n",
    "但是，真实需求不是猜出来的。\n",
    "\n",
    "#### 5 why 法\n",
    "\n",
    "丰田公司创始人，丰田佐吉，提出的一种「找根本原因」的方法：\n",
    "\n",
    "> 接到一个需求，问为什么有这需求。得到答案后，再问为什么会有这样的答案，以此类推，直至找到根本性的核心需求。\n",
    "\n",
    "实战中，通常问到 2-3 个 why，就已经找到真需求了。\n",
    "\n",
    "举例：\n",
    "\n",
    "看一段羞耻的视频：https://www.bilibili.com/video/BV1wW411Z7Fg/?t=13m49s\n",
    "\n",
    "5 个 why，找到了真需求「她需要我对她用心」，解决方案是「更多关注她的感受，把过程表达出来」。\n",
    "\n",
    "但是，5 why 法有两个致命缺点：\n",
    "\n",
    "1. 如果你对业务理解不够，对方会不耐烦\n",
    "2. 有时，显得不太礼貌\n",
    "\n",
    "#### 躬身入局法\n",
    "\n",
    "非常简单：自己去把业务做一遍。一遍不够就再来一遍。\n",
    "\n",
    "真实案例：\n",
    "\n",
    "1. 高途要求所有新入职的产研，必须先做一个月的销售\n",
    "2. 美团骑手线的产品经理，都送过外卖\n",
    "\n",
    "这是比「吃自己的狗粮」更彻底的做法。\n",
    "\n",
    "缺点：\n",
    "\n",
    "1. 成本高，时间和资源成本都高。但很值得\n",
    "2. 有些业务，咱们真插不上手。那就像个学徒一样，全程跟随观察吧\n",
    "\n",
    "<div class=\"alert alert-warning\">\n",
    "<b>行动：</b>约付费能力强的群体中，你最熟悉的前三个人吃饭。你给 ta 讲 AI，ta 跟你聊需求\n",
    "</div>\n"
   ]
  },
  {
   "cell_type": "markdown",
   "metadata": {},
   "source": [
    "## 作业\n",
    "\n",
    "用前面的方法，找到一个 AI 产品创意，用 AI 帮你撰写方案。\n"
   ]
  },
  {
   "cell_type": "markdown",
   "metadata": {},
   "source": [
    "## 调试 prompt，验证可行性\n"
   ]
  },
  {
   "cell_type": "markdown",
   "metadata": {},
   "source": [
    "先手工调试 prompt，确保需求可以解决，再继续。\n",
    "\n",
    "- 最简单：在各个模型的 chat 界面，或 Playground 里，直接调试\n",
    "- 进阶：用 ChatALL 做比较\n",
    "- 专业：\n",
    "  - [Semantic Kernel Tools](https://marketplace.visualstudio.com/items?itemName=ms-semantic-kernel.semantic-kernel)\n",
    "    - 和 SK 绝配，与工程代码库直接联动\n",
    "  - [LangSmith](https://smith.langchain.com/)\n",
    "    - 和 LangChain 绝配，自动日志 LC 代码的运行结果\n",
    "    - 可以建测试集，自动测试\n",
    "    - 类似 GitHub，可以和其它人共享 prompt\n",
    "    - Hub 中的 prompt 可以直接在代码中引用\n",
    "- 新潮，用 flow：\n",
    "  - [Prompt flow](https://github.com/microsoft/promptflow)\n",
    "    - 微软 AI 工具链的新成员\n",
    "    - 可以和 SK 配合，也可以独立使用\n",
    "    - 调试好的代码可直接部署到 Azure\n",
    "    - 安装有些麻烦\n",
    "    - [flows/chat/](flows/chat/) 中有示例\n",
    "  - [Vellum](https://www.vellum.ai/)\n",
    "    - 专业的 prompt 调试工具，使用最方便\n",
    "    - 支持 scenario、prompt、LLM 三个维度的交叉比较\n",
    "    - 支持 workflow\n",
    "\n",
    "可惜，支持国产大模型的 prompt 调试工具，还没有出现。LangSmith 间接支持国产大模型\n"
   ]
  },
  {
   "cell_type": "markdown",
   "metadata": {},
   "source": [
    "## 产品设计\n"
   ]
  },
  {
   "cell_type": "markdown",
   "metadata": {},
   "source": [
    "简单说，就三件事：\n",
    "\n",
    "1. 功能设计\n",
    "2. 信息架构设计\n",
    "3. 交互设计\n",
    "\n",
    "如果对视觉要求高，还需要特别做视觉设计。否则套模板就差不多。\n",
    "\n",
    "对全栈来说，三件事不分先后，而是彼此交错。\n",
    "\n",
    "但起手做的，常常是：抄。\n"
   ]
  },
  {
   "cell_type": "markdown",
   "metadata": {},
   "source": [
    "### 怎样优雅地借鉴产品\n"
   ]
  },
  {
   "cell_type": "markdown",
   "metadata": {},
   "source": [
    "借鉴的合理性在于：\n",
    "\n",
    "1. 不该打破用户习惯\n",
    "2. 这其实是行业惯例了\n",
    "\n",
    "优雅的姿势：\n",
    "\n",
    "1. 先自己设计，然后再参考\n",
    "2. 学结构、学交互，别学视觉\n",
    "3. 取各家之长做整合\n",
    "4. 功能抽象。做一个简单的功能解决很多问题，而不是做很多功能各解决各自的问题\n",
    "\n",
    "避坑关键：\n",
    "\n",
    "1. 用 5 why 法推演为什么这么设计\n",
    "2. 如果找不到理性答案，慎抄，容易进坑\n"
   ]
  },
  {
   "cell_type": "markdown",
   "metadata": {},
   "source": [
    "### 写 PRD\n"
   ]
  },
  {
   "cell_type": "markdown",
   "metadata": {},
   "source": [
    "一定要先写文档！俗称 PRD。\n",
    "\n",
    "1. 这文档不是给别人看的，甚至自己也不会看。但写文档，可以让你的思路更清晰\n",
    "2. 飞书的「[产品需求文档](PRD.docx)」模板特别好用，照着往里填就行\n",
    "3. 可以用 ChatGPT 找些思路和灵感，常见功能它写得还不错\n",
    "4. 试试在 IDE 里开着 Copilot 写文档，体验很棒（「体验很棒」这四个字，就是 Copilot 写的）\n",
    "\n",
    "![copilot](copilot.png)\n"
   ]
  },
  {
   "cell_type": "markdown",
   "metadata": {},
   "source": [
    "### 画原型图\n"
   ]
  },
  {
   "cell_type": "markdown",
   "metadata": {},
   "source": [
    "编程背景的会更喜欢直接上代码，省却画原型步骤。\n",
    "\n",
    "代码写出来就有感情，往往不爱改。所以，先画原型更有助于迭代，能在具象和整体层面上，更好地把控。\n",
    "\n",
    "和传统流程不同，我们原型图不需要太精细，线框图足够了。细节反倒是在代码里做调整更直接、准确。\n",
    "\n",
    "推荐的工具：\n",
    "\n",
    "1. [draw.io](https://draw.io) - 免费开源，对程序员最友好的画图工具，可以直接改 style。内置的图形库，几乎就足够用了\n",
    "2. [Figma](https://www.figma.com) - 专业的原型设计工具，非常非常强大，但学习成本高，建议处理 logo、icon 等图片切图时使用。免费版就够用。收购了一家 AI 公司，未来会有更多 AI 功能\n",
    "3. [Motiff](https://motiff.com/) - 国产新秀，还在测试阶段。AI native 的设计工具\n"
   ]
  },
  {
   "cell_type": "markdown",
   "metadata": {},
   "source": [
    "### draw.io\n",
    "\n",
    "1. 可以直接编辑云文件，包括 GitHub\n",
    "2. 保存的 .png 和 .svg 文件还能继续编辑\n",
    "3. Bootstrap、Mockup、Android、iOS 等图形库，非常全面\n",
    "4. 容器功能特别好用\n",
    "5. 有客户端，速度更快\n"
   ]
  },
  {
   "cell_type": "markdown",
   "metadata": {},
   "source": [
    "### Figma\n",
    "\n",
    "1. 把 sketch 按到地上摩擦的专业设计工具\n",
    "2. 可以写 plugin 来扩展其功能\n",
    "3. 适合多人协作，支持实时协同编辑\n",
    "4. 直接生成样式代码\n",
    "5. 有客户端，速度更快\n"
   ]
  },
  {
   "cell_type": "markdown",
   "metadata": {},
   "source": [
    "### Motiff\n",
    "\n",
    "1. 基本编辑功能和 Sketch、Figma 大同小异\n",
    "2. AI 魔法框能力很独特，堪称设计界的 Copilot\n",
    "3. AI 识别通用组件也挺有用\n"
   ]
  },
  {
   "cell_type": "markdown",
   "metadata": {},
   "source": [
    "### 极简设计原则\n",
    "\n",
    "1. 所有元素要**对齐**。和保持代码缩进一样重要\n",
    "2. **亲密性**，相关元素离得更近。和代码里加空行一个道理\n",
    "3. 同一界面**最多使用 4 种颜色**。颜色的意义：传递信息 > 美观\n",
    "4. 用 **4 的倍数**（4、8、12、16、20……）设置大小、间距。视觉感受不明显，但适配性更好\n",
    "\n",
    "<img src=\"design_principles.png\" width=\"600px\" />\n",
    "\n",
    "推荐[《写给大家看的设计书（第 4 版）》](https://www.dedao.cn/ebook/detail?id=rJRdy1qe4xAVBgZrvdGmz8ykaop6QWXnEEwEJnD7LR51qb2KY9NPMXOljVa28m5K)。我用半本书就撑住了半辈子的设计工作……\n"
   ]
  },
  {
   "cell_type": "markdown",
   "metadata": {},
   "source": [
    "## 快速搭 demo\n",
    "\n",
    "可以有个期待，AI 把 PRD 直接变成产品。[MetaGPT](https://github.com/geekan/MetaGPT) 在这方面走得最远，但还很不够。\n",
    "\n",
    "懂代码的我们，可以用 [Gradio](https://www.gradio.app/)，快速搭出一个主流程 demo，供用户/客户体验，验证需求。\n"
   ]
  },
  {
   "cell_type": "markdown",
   "metadata": {},
   "source": [
    "### Gradio\n"
   ]
  },
  {
   "cell_type": "markdown",
   "metadata": {},
   "source": [
    "https://www.gradio.app/\n",
    "\n",
    "1. 是机器学习界最常用的界面开发库\n",
    "2. 非常简单，用纯 python 就能写出功能强大的 Web 界面，不需要任何 JavaScript、CSS 知识\n",
    "3. 响应式设计，支持手机、平板、电脑等多种设备\n",
    "4. 文档详细，样例丰富，非常容易上手\n",
    "\n",
    "比如：\n",
    "\n",
    "- Chatbot Arena: https://chat.lmsys.org/\n",
    "- Stable Diffusion web UI: https://github.com/AUTOMATIC1111/stable-diffusion-webui\n",
    "\n",
    "安装：\n",
    "\n",
    "```bash\n",
    "pip install gradio\n",
    "```\n"
   ]
  },
  {
   "cell_type": "markdown",
   "metadata": {},
   "source": [
    "### Hello world\n",
    "\n",
    "先从一个最简单的例子开始，看看 Gradio 的基本用法。\n",
    "\n",
    "[hello-app.py](hello-app.py)\n"
   ]
  },
  {
   "cell_type": "markdown",
   "metadata": {},
   "source": [
    "### 仿 ChatGPT\n",
    "\n",
    "用 SK + Gradio，搭出一个 ChatGPT。\n",
    "\n",
    "[chat-app.py](chat-app.py)\n"
   ]
  },
  {
   "cell_type": "markdown",
   "metadata": {},
   "source": [
    "### 更高级的 ChatGPT\n",
    "\n",
    "加上更多参数，适合专业人士使用。\n",
    "\n",
    "[chat-pro-app.py](chat-pro-app.py)\n"
   ]
  },
  {
   "cell_type": "markdown",
   "metadata": {},
   "source": [
    "### 高级定制界面\n",
    "\n",
    "前面演示的都是用内置模板直接创建界面。但 Gradio 还支持高级自定义界面。\n",
    "\n",
    "界面中可以放置的组件，有：\n",
    "\n",
    "- AnnotatedImage\n",
    "- Audio\n",
    "- BarPlot\n",
    "- Button\n",
    "- Chatbot\n",
    "- Checkbox\n",
    "- CheckboxGroup\n",
    "- ClearButton\n",
    "- Code\n",
    "- ColorPicker\n",
    "- Dataframe\n",
    "- Dataset\n",
    "- Dropdown\n",
    "- DuplicateButton\n",
    "- File\n",
    "- Gallery\n",
    "- HTML\n",
    "- HighlightedText\n",
    "- Image\n",
    "- Interpretation\n",
    "- JSON\n",
    "- Label\n",
    "- LinePlot\n",
    "- LoginButton\n",
    "- LogoutButton\n",
    "- Markdown\n",
    "- Model3D\n",
    "- Number\n",
    "- Plot\n",
    "- Radio\n",
    "- ScatterPlot\n",
    "- Slider\n",
    "- State\n",
    "- Textbox\n",
    "- Timeseries\n",
    "- UploadButton\n",
    "- Video\n",
    "\n",
    "界面布局用 tab、row、column 模式，例如：[layout-app.py](layout-app.py)\n"
   ]
  },
  {
   "cell_type": "markdown",
   "metadata": {},
   "source": [
    "## 开发\n",
    "\n",
    "略\n"
   ]
  },
  {
   "cell_type": "markdown",
   "metadata": {},
   "source": [
    "## 产品运营\n"
   ]
  },
  {
   "cell_type": "markdown",
   "metadata": {},
   "source": [
    "<div class=\"alert alert-success\">\n",
    "<b>划重点：</b>长期看，运营比研发重要很多\n",
    "</div>\n",
    "\n",
    "运营好于产品的例子（他们的对手就是反例）：\n",
    "\n",
    "1. 海底捞\n",
    "2. 瑞幸咖啡\n",
    "3. ofo\n",
    "4. 中国云计算的 top 厂商\n",
    "\n",
    "除非产品有压倒性优势（ChatGPT、NVIDIA），否则从一开始就要拼运营。\n",
    "\n",
    "运营核心三件事：\n",
    "\n",
    "1. 获客\n",
    "2. 转化\n",
    "3. 留存\n",
    "\n",
    "但运营是个具体而微的工作，无数细节，无数变化，比调 prompt 还折腾。\n"
   ]
  },
  {
   "cell_type": "markdown",
   "metadata": {},
   "source": [
    "### 获客\n",
    "\n",
    "#### 获客核心\n",
    "\n",
    "<div class=\"alert alert-success\">\n",
    "把最打动人的宣传，呈现给最有可能成为用户的人。\n",
    "</div>\n",
    "\n",
    "宣传和产品解决的「真需求」是一脉相承的。**能否一句话讲清产品是做什么的**，有时就是成功和失败的分水岭。\n",
    "\n",
    "- 美团外卖，送啥都快\n",
    "-\n",
    "\n",
    "注意：宣传语（slogon）押韵很重要，会更可信。\n",
    "\n",
    "#### 免费/低价获客\n",
    "\n",
    "1. 口碑传播\n",
    "   - 价值最高的获客方式\n",
    "   - 用产品自身说话，低成本获客，形成正向循环\n",
    "   - 需要时间积累，起速慢\n",
    "   - 不容易突破圈层\n",
    "2. 社交媒体推广，用内容获客\n",
    "   - 知乎、公众号、视频号、抖音、快手、小红书、X、Facebook 等\n",
    "   - 初期效果不明显，但长期坚持会越来越好\n",
    "   - 根据受众选择媒介\n",
    "   - 用好媒介的推荐策略\n",
    "3. SEO\n",
    "   - 老派，但扔有用\n",
    "   - 尤其适合 2B\n",
    "4. 开源\n",
    "   - 非常利于免费传播\n",
    "   - 开源也是一种商业策略\n",
    "5. 独立开发者友好的社区\n",
    "   - [v2ex](https://www.v2ex.com/)\n",
    "   - [即刻](https://web.okjike.com/)\n",
    "   - [Product Hunt](https://www.producthunt.com/)\n",
    "\n",
    "#### 付费获客\n",
    "\n",
    "谨慎花钱！\n",
    "\n",
    "1. 专业渠道\n",
    "   - 有些渠道公司专门做对应市场的推广，比如高校渠道、HR 渠道等\n",
    "2. 线下渠道\n",
    "   - 到目标用户集中出现的地方\n",
    "   - 学校、商场、展会等\n",
    "3. 意见领袖\n",
    "   - 各种大 V、达人，背书效果好\n",
    "4. 广告平台\n",
    "   - 朋友圈、微博、抖音、快手等\n",
    "   - 流量巨大，几无上限\n",
    "   - 线下广告牌、电视广告等（特别烧钱）\n"
   ]
  },
  {
   "cell_type": "markdown",
   "metadata": {},
   "source": [
    "### 转化\n",
    "\n",
    "1. 如果产品强/客单价低，能形成自然转化\n",
    "2. 如果产品弱/客单价高，要依赖销售策略（话术）\n",
    "\n",
    "客单价越高，对销售的依赖越大。\n",
    "\n",
    "<div class=\"alert alert-success\">\n",
    "销售过程的本质是：挖需 + 针对性解决方案 + 创造超预期的体验\n",
    "</div>\n",
    "\n",
    "此处挖需，千万别用 5 why 法，但要有 5 why 法的精神。\n"
   ]
  },
  {
   "cell_type": "markdown",
   "metadata": {},
   "source": [
    "### 留存\n",
    "\n",
    "<div class=\"alert alert-success\">\n",
    "保持接触是留存的关键。\n",
    "</div>\n",
    "\n",
    "1. 高频使用的产品比低频更容易留存，所以如果可能，优先做高频产品\n",
    "   1. 案例：微信 vs. 支付宝\n",
    "   2. 反例：妙鸭\n",
    "1. 产品价值和服务，是留存的核心\n",
    "1. 通过社交媒体保持触达，把留存和获客合起来做\n",
    "1. 建私域，做私域运营\n"
   ]
  },
  {
   "cell_type": "markdown",
   "metadata": {},
   "source": [
    "## 迭代\n",
    "\n",
    "<div class=\"alert alert-success\">\n",
    "<b>划重点：</b>谨慎增加新功能，保持小而美\n",
    "</div>\n",
    "\n",
    "1. 别用高频迭代代表勤奋，用积极运营代表勤奋\n",
    "2. 第一版只做主路径功能。但别忽略细节体验\n",
    "3. 用 KANO 模型，找到提升**核心用户**满意度的功能，只做这些\n",
    "   - 非核心用户骂你，也不要理睬\n",
    "4. 别轻易改变**核心用户**画像。如果要变，想想是不是为新客群做个新产品更好，哪怕产品之间有大量重复功能\n",
    "\n",
    "![kano](kano.webp)\n",
    "\n",
    "<div class=\"alert alert-warning\">\n",
    "<b>思考：</b>兴奋型、期望型、基本型需求，怎样的优先级？\n",
    "</div>\n"
   ]
  },
  {
   "cell_type": "markdown",
   "metadata": {},
   "source": [
    "## 扩展学习\n",
    "\n",
    "1. [《邱岳·互联网产品方法论》](https://www.dedao.cn/course/detail?id=Ox1El850jp9VaZasnvJZg6MbrdvRBo) - 最真实的\n",
    "2. [《产品思维 - 从新手到资深产品经理》](https://www.dedao.cn/ebook/detail?id=nroX7MYDaKMjy7eNqrmOX6pnAQ5Vg049x2WJzxbE9LZl1o8RkGd2BPYv4x6d9meB) - 逻辑最严密的，适合程序员\n",
    "3. [《运营之光：我的互联网运营方法论与自白 3.0》](https://www.dedao.cn/ebook/detail?id=bxEYR1zAbZMmVzK4p1oxl67XeNaB83OqQV092GJERgryYQdDnqjkPLvO5eOZ8Nqr) - 最久经考验的\n"
   ]
  }
 ],
 "metadata": {
  "kernelspec": {
   "display_name": "Python 3 (ipykernel)",
   "language": "python",
   "name": "python3"
  },
  "language_info": {
   "codemirror_mode": {
    "name": "ipython",
    "version": 3
   },
   "file_extension": ".py",
   "mimetype": "text/x-python",
   "name": "python",
   "nbconvert_exporter": "python",
   "pygments_lexer": "ipython3",
   "version": "3.11.4"
  }
 },
 "nbformat": 4,
 "nbformat_minor": 4
}
