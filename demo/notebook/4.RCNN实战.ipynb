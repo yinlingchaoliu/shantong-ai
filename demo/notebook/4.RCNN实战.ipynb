{
 "cells": [
  {
   "cell_type": "markdown",
   "id": "0cc38962-c323-4702-857f-9bd8826359d9",
   "metadata": {},
   "source": [
    "# 构建卷积神经网络"
   ]
  },
  {
   "cell_type": "code",
   "execution_count": 2,
   "id": "52b97c69-59a8-4aa3-82a5-f995802797c2",
   "metadata": {},
   "outputs": [],
   "source": [
    "import torch\n",
    "import torch.nn as nn\n",
    "import torch.optim as optim\n",
    "import torch.nn.functional as F\n",
    "from torchvision import datasets,transforms\n",
    "import matplotlib.pyplot as plt\n",
    "import numpy as np\n",
    "#%matplotlib inline "
   ]
  },
  {
   "cell_type": "markdown",
   "id": "4fb20144-521f-4996-b9d4-26f2bb3ec9af",
   "metadata": {},
   "source": [
    "# 首先读取数据 \n",
    "* 构建训练集合测试集\n",
    "* dataloader来迭代取数据\n"
   ]
  },
  {
   "cell_type": "code",
   "execution_count": 4,
   "id": "4a472365-52e2-4415-b0cc-5e7634dbd0b7",
   "metadata": {},
   "outputs": [],
   "source": [
    "#定义参数\n",
    "input_size = 28  # 图像尺寸 28 *28 * 1 三维数据\n",
    "num_classes = 10 # 标签种类数\n",
    "num_epochs = 3 # 训练次数\n",
    "batch_size = 64 # 大小批次\n",
    "\n",
    "# 训练集\n",
    "train_dataset = datasets.MNIST(root='./data',train=True, transform=transforms.ToTensor(),download=True)\n",
    "\n",
    "# 测试集\n",
    "test_dataset = datasets.MNIST(root='./data',train=False, transform=transforms.ToTensor())\n",
    "\n",
    "#构建batch数据\n",
    "train_loader = torch.utils.data.DataLoader(dataset=train_dataset,batch_size=batch_size,shuffle=True)\n",
    "\n",
    "test_loader = torch.utils.data.DataLoader(dataset=test_dataset,batch_size=batch_size,shuffle=True)\n"
   ]
  },
  {
   "cell_type": "markdown",
   "id": "3d41a456-b558-4b15-b4aa-42efaff31390",
   "metadata": {},
   "source": [
    " # 卷积网络模块构建\n",
    " * 一般卷积层， rule层， 池化层写成一个套餐\n",
    " * 卷积最后结果还是一个特征图，需要把图转换成向量，才能做分类或者现象任务(全连接层)"
   ]
  },
  {
   "cell_type": "code",
   "execution_count": 6,
   "id": "76bb3a76-3e66-49a6-a987-c83019267ccb",
   "metadata": {},
   "outputs": [],
   "source": [
    "class CNN(nn.Module):\n",
    "    def __init__(self):\n",
    "        super(CNN, self).__init__()\n",
    "        # conv + rule + pooling\n",
    "        self.conv1 = nn.Sequential(  # 输入大小(batch,1,28,28)\n",
    "            nn.Conv2d(  # 卷积层\n",
    "                in_channels=1,  # 输入通道数  灰度层\n",
    "                out_channels=16,  # 输出通道数\n",
    "                kernel_size=5,  # 卷积核大小 5*5 特征提取\n",
    "                stride=1,  # 步长\n",
    "                padding=2),  # 填充 padding = (kernel_size - 1) /2\n",
    "            nn.ReLU(),  # 激活函数\n",
    "            nn.MaxPool2d(kernel_size=2)  # 池化层\n",
    "        )\n",
    "        self.conv2 = nn.Sequential(\n",
    "            nn.Conv2d(\n",
    "                in_channels=16,  # 上一层输出\n",
    "                out_channels=32,  # 32输出\n",
    "                kernel_size=5,\n",
    "                stride=1,\n",
    "                padding=2),\n",
    "            nn.ReLU(),\n",
    "            nn.MaxPool2d(2)\n",
    "        )\n",
    "\n",
    "        # (h-f+2p/s) +1 = 28 - 5 + 2*2 + 1 = 28\n",
    "        # 14 -5 + 2*2 +1 =14\n",
    "        # pool h/2 w/2\n",
    "\n",
    "        # 输入 28*28*1 -> conv1 28*28*16 -> pool(长宽减半) 14*14*16\n",
    "        # ->conv2 14*14*32 -> pool 7*7*32\n",
    "        # 全连接层 图转化为向量->才能给全连接层\n",
    "        self.out = nn.Linear(7 * 7 * 32, 10)  # 全连接层\n",
    "\n",
    "        # 前向传播\n",
    "    def forward(self, x):\n",
    "        x = self.conv1(x)\n",
    "        x = self.conv2(x)\n",
    "        x = x.view(x.size(0), -1)\n",
    "        output = self.out(x)\n",
    "        return output"
   ]
  },
  {
   "cell_type": "markdown",
   "id": "8f09acd8-947b-41e8-8f9f-f2ab44538a23",
   "metadata": {},
   "source": [
    " # 准确率评估"
   ]
  },
  {
   "cell_type": "code",
   "execution_count": 11,
   "id": "2b06416e-dc23-4bbc-9845-4271857031f2",
   "metadata": {},
   "outputs": [],
   "source": [
    "def accuracy(predictions, labels):  # 预测值和真实值\n",
    "    pred = torch.max(predictions.data, 1)[1]  # 预测值\n",
    "    rights = pred.eq(labels.data.view_as(pred)).sum()  # 正确个数和总数\n",
    "    return rights, len(labels)"
   ]
  },
  {
   "cell_type": "markdown",
   "id": "2eb76bc0-7f9d-4712-ae6c-2265cd5934df",
   "metadata": {},
   "source": [
    "# 训练网络模型"
   ]
  },
  {
   "cell_type": "code",
   "execution_count": null,
   "id": "bd6b28bd-a644-43bc-8812-4bd0227d4d32",
   "metadata": {},
   "outputs": [],
   "source": [
    "\n",
    "net = CNN()\n",
    "# 损失函数\n",
    "criterion = nn.CrossEntropyLoss()\n",
    "# 优化器\n",
    "optimizer = optim.Adam(net.parameters(), lr=0.001)\n",
    "\n",
    "for epoch in range(num_epochs):\n",
    "    train_rights = []\n",
    "    for batch_idx, (data, target) in enumerate(train_loader):  # 遍历训练集\n",
    "        net.train() # 训练模式\n",
    "        output = net(data) # 输出\n",
    "        loss = criterion(output, target) # 损失\n",
    "        optimizer.zero_grad() # 梯度清零\n",
    "        loss.backward()  # 反向传播\n",
    "        optimizer.step() # 步数更新\n",
    "        right = accuracy(output, target) # 预测值和真实值\n",
    "        train_rights.append(right) # 预测值和真实值\n",
    "\n",
    "        # 测试验证 每隔100次验证一次\n",
    "        if batch_idx % 100 == 0:\n",
    "            net.eval() # 验证模式\n",
    "            test_rights = []\n",
    "            for (data, target) in test_loader:\n",
    "                output = net(data)\n",
    "                right = accuracy(output, target)\n",
    "                test_rights.append(right)\n",
    "\n",
    "            train_r = (sum([tup[0] for tup in train_rights]),sum([tup[1] for tup in train_rights]))\n",
    "            test_r = (sum([tup[0] for tup in test_rights]), sum([tup[1] for tup in test_rights]))\n",
    "\n",
    "            # 进度取整数\n",
    "            # 损失取后6位小数\n",
    "            # 准确率取后2位小数\n",
    "            print(f\"当前epoch:{epoch} [{batch_idx * batch_size}/{len(train_loader.dataset)}] \"\n",
    "                  f\"({round(100. * batch_idx/len(train_loader))}%)\\t 损失: {loss.data:.6f}\\t\"\n",
    "                  f\"训练集准确率 {100. * train_r[0] / train_r[1]:.2f}%\\t\"\n",
    "                  f\"测试集正确率 {100. * test_r[0] / test_r[1]:.2f}%\"  )"
   ]
  },
  {
   "cell_type": "code",
   "execution_count": null,
   "id": "fe0ef703-31e2-4c44-9504-d5ff0e17bd23",
   "metadata": {},
   "outputs": [],
   "source": []
  }
 ],
 "metadata": {
  "kernelspec": {
   "display_name": "Python [conda env:base] *",
   "language": "python",
   "name": "conda-base-py"
  },
  "language_info": {
   "codemirror_mode": {
    "name": "ipython",
    "version": 3
   },
   "file_extension": ".py",
   "mimetype": "text/x-python",
   "name": "python",
   "nbconvert_exporter": "python",
   "pygments_lexer": "ipython3",
   "version": "3.12.7"
  }
 },
 "nbformat": 4,
 "nbformat_minor": 5
}
